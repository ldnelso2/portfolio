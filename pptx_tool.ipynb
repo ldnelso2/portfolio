{
 "cells": [
  {
   "cell_type": "code",
   "execution_count": 7,
   "metadata": {},
   "outputs": [],
   "source": [
    "#### STEP 5:  Allow output\n",
    "# Trying this just for fun, b/c I hate manufally editing powerpoint!\n",
    "\n",
    "# Req: Activate the 'portfolio' conda env:  $ conda activate portfolio\n",
    "\n",
    "from pptx import Presentation\n",
    "\n",
    "def formatter(choice, preso):\n",
    "    # 16:9 is 10 x 5.625\"\n",
    "    # Widescreen is 13.333 inches x 7.5 inches\n",
    "    # Conversion to English Metric Units is 1\" = 914400 EMUs \n",
    "    if choice == '16_9': \n",
    "        preso.slide_width=int(10*914400)\n",
    "        preso.slide_height=int(5.625*914400)\n",
    "    elif choice == 'wide': \n",
    "        preso.slide_width=13.333*914400\n",
    "        preso.slide_height=7.5*914400\n",
    "    \n",
    "prs = Presentation()\n",
    "formatter('16_9', prs)\n",
    "title_slide_layout = prs.slide_layouts[0]\n",
    "slide = prs.slides.add_slide(title_slide_layout)\n",
    "title = slide.shapes.title\n",
    "subtitle = slide.placeholders[1]\n",
    "\n",
    "title.text = \"Investment Portfolio Composition\"\n",
    "subtitle.text = \"Used Python to Generate these Automagically\"\n",
    "\n",
    "prs.save('test.pptx')"
   ]
  },
  {
   "cell_type": "code",
   "execution_count": null,
   "metadata": {},
   "outputs": [],
   "source": [
    "# This is awesome, actually works\n",
    "# We can allow the user to just tweak some sliders with assumptions, add comments / commentary, \n",
    "# Then spit out a .pptx automagically.\n",
    "# https://python-pptx.readthedocs.io/en/latest/user/quickstart.html\n",
    "\n"
   ]
  }
 ],
 "metadata": {
  "kernelspec": {
   "display_name": "Py37-portfolio",
   "language": "python",
   "name": "portfolio"
  },
  "language_info": {
   "codemirror_mode": {
    "name": "ipython",
    "version": 3
   },
   "file_extension": ".py",
   "mimetype": "text/x-python",
   "name": "python",
   "nbconvert_exporter": "python",
   "pygments_lexer": "ipython3",
   "version": "3.7.3"
  }
 },
 "nbformat": 4,
 "nbformat_minor": 2
}

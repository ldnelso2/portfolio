{
 "cells": [
  {
   "cell_type": "code",
   "execution_count": 7,
   "metadata": {},
   "outputs": [],
   "source": [
    "#### STEP 5:  Allow output\n",
    "# Trying this just for fun, b/c I hate manufally editing powerpoint!\n",
    "\n",
    "# Req: Activate the 'portfolio' conda env:  $ conda activate portfolio\n",
    "\n",
    "from pptx import Presentation\n",
    "\n",
    "def formatter(choice, preso):\n",
    "    # 16:9 is 10 x 5.625\"\n",
    "    # Widescreen is 13.333 inches x 7.5 inches\n",
    "    # Conversion to English Metric Units is 1\" = 914400 EMUs \n",
    "    if choice == '16_9': \n",
    "        preso.slide_width=int(10*914400)\n",
    "        preso.slide_height=int(5.625*914400)\n",
    "    elif choice == 'wide': \n",
    "        preso.slide_width=13.333*914400\n",
    "        preso.slide_height=7.5*914400\n",
    "    \n",
    "prs = Presentation()\n",
    "formatter('16_9', prs)\n",
    "title_slide_layout = prs.slide_layouts[0]\n",
    "slide = prs.slides.add_slide(title_slide_layout)\n",
    "title = slide.shapes.title\n",
    "subtitle = slide.placeholders[1]\n",
    "\n",
    "title.text = \"Investment Portfolio Composition\"\n",
    "subtitle.text = \"Used Python to Generate these Automagically\"\n",
    "\n",
    "prs.save('test.pptx')"
   ]
  },
  {
   "cell_type": "code",
   "execution_count": null,
   "metadata": {},
   "outputs": [],
   "source": [
    "# This is awesome, actually works\n",
    "# We can allow the user to just tweak some sliders with assumptions, add comments / commentary, \n",
    "# Then spit out a .pptx automagically.\n",
    "# https://python-pptx.readthedocs.io/en/latest/user/quickstart.html\n",
    "\n"
   ]
  },
  {
   "cell_type": "code",
   "execution_count": 9,
   "metadata": {},
   "outputs": [],
   "source": [
    "### Okay, goofing off with bullet points.\n",
    "\n",
    "prs = Presentation()\n",
    "bullet_slide_layout = prs.slide_layouts[1]\n",
    "\n",
    "slide = prs.slides.add_slide(bullet_slide_layout)\n",
    "shapes = slide.shapes\n",
    "\n",
    "title_shape = shapes.title\n",
    "body_shape = shapes.placeholders[1]\n",
    "\n",
    "title_shape.text = 'Slide title'\n",
    "\n",
    "tf = body_shape.text_frame\n",
    "tf.text = 'This is a text frame'\n",
    "\n",
    "p = tf.add_paragraph()\n",
    "p.text = 'This is the first sub-bullet'\n",
    "p.level = 1\n",
    "\n",
    "p = tf.add_paragraph()\n",
    "p.text = 'This is a 3rd level bullet'\n",
    "p.level = 2\n",
    "\n",
    "p = tf.add_paragraph()\n",
    "p.text = 'This is a second sub bullet, level 1 down'\n",
    "p.level = 1\n",
    "\n",
    "prs.save('test.pptx')"
   ]
  },
  {
   "cell_type": "code",
   "execution_count": 84,
   "metadata": {},
   "outputs": [],
   "source": [
    "#### Get automatic contextual icons from thenounproject\n",
    "### Would allow for really quick content generation \n",
    "# Nounproject API documentation\n",
    "# http://api.thenounproject.com/index.html\n",
    "\n",
    "import requests\n",
    "from requests_oauthlib import OAuth1\n",
    "\n",
    "auth = OAuth1(\"c19cb58fd48d4cadacb07d3ab115fb1d\", \"e5cf175be1024629bc014467d76705c0\")\n",
    "endpoint = \"http://api.thenounproject.com/icon/1\"\n",
    "\n",
    "response = requests.get(endpoint, auth=auth)\n",
    "# print(response.content)\n",
    "#\n",
    "# That works!  Okay, so how to search for the icon ID numbers based on a keyword?"
   ]
  },
  {
   "cell_type": "code",
   "execution_count": 98,
   "metadata": {},
   "outputs": [],
   "source": [
    "# Use the python wrapper mentioned in the main nounproject API\n",
    "# See the Documentation for more information: https://cubiedev.github.io/TheNounProjectAPI\n",
    "from TheNounProjectAPI import API\n",
    "\n",
    "if __name__ == \"__main__\":\n",
    "    # API Key and Secret from https://api.thenounproject.com/getting_started.html#creating-an-api-key\n",
    "    key = \"c19cb58fd48d4cadacb07d3ab115fb1d\"\n",
    "    secret = \"e5cf175be1024629bc014467d76705c0\"\n",
    "    \n",
    "    # Create api object\n",
    "    api = API(key=key, secret=secret)\n",
    "\n",
    "    # See the documentation for more endpoints\n",
    "    # Using a random search term 'goat' to test it out\n",
    "    icons = api.get_icons_by_term(\"goat\", public_domain_only=False, limit=20)\n",
    "\n"
   ]
  },
  {
   "cell_type": "code",
   "execution_count": 99,
   "metadata": {},
   "outputs": [
    {
     "name": "stdout",
     "output_type": "stream",
     "text": [
      "Returns 20 icons\n",
      "<IconModel: Term: Goat, Slug: goat, Id: 8786>\n",
      "<IconModel: Term: Goat, Slug: goat, Id: 14916>\n",
      "<IconModel: Term: Goat, Slug: goat, Id: 18892>\n",
      "<IconModel: Term: Goat, Slug: goat, Id: 27610>\n",
      "<IconModel: Term: Goat, Slug: goat, Id: 37047>\n",
      "<IconModel: Term: Goat, Slug: goat, Id: 76627>\n",
      "<IconModel: Term: Goat, Slug: goat, Id: 80060>\n",
      "<IconModel: Term: Goat, Slug: goat, Id: 89208>\n",
      "<IconModel: Term: Goat, Slug: goat, Id: 108037>\n",
      "<IconModel: Term: Goat, Slug: goat, Id: 108039>\n",
      "<IconModel: Term: Goat, Slug: goat, Id: 108040>\n",
      "<IconModel: Term: Goat, Slug: goat, Id: 108041>\n",
      "<IconModel: Term: Goat, Slug: goat, Id: 120159>\n",
      "<IconModel: Term: Goat, Slug: goat, Id: 142805>\n",
      "<IconModel: Term: Goat, Slug: goat, Id: 149057>\n",
      "<IconModel: Term: Goat, Slug: goat, Id: 154251>\n",
      "<IconModel: Term: Goat, Slug: goat, Id: 154253>\n",
      "<IconModel: Term: Goat, Slug: goat, Id: 193409>\n",
      "<IconModel: Term: Goat, Slug: goat, Id: 212305>\n",
      "<IconModel: Term: Goat, Slug: goat, Id: 213761>\n"
     ]
    }
   ],
   "source": [
    "print(f'Returns {len(icons)} icons')\n",
    "\n",
    "# To retrieve a given icon's ID from the list you could loop through and grab the ID:\n",
    "for icon in icons: \n",
    "    print(icon)"
   ]
  },
  {
   "cell_type": "code",
   "execution_count": 100,
   "metadata": {},
   "outputs": [
    {
     "ename": "IndexError",
     "evalue": "list index out of range",
     "output_type": "error",
     "traceback": [
      "\u001b[0;31m---------------------------------------------------------------------------\u001b[0m",
      "\u001b[0;31mIndexError\u001b[0m                                Traceback (most recent call last)",
      "\u001b[0;32m<ipython-input-100-23040c190aed>\u001b[0m in \u001b[0;36m<module>\u001b[0;34m\u001b[0m\n\u001b[1;32m      5\u001b[0m \u001b[0;34m\u001b[0m\u001b[0m\n\u001b[1;32m      6\u001b[0m \u001b[0;31m# https://cubiedev.github.io/TheNounProjectAPI/models.html\u001b[0m\u001b[0;34m\u001b[0m\u001b[0;34m\u001b[0m\u001b[0;34m\u001b[0m\u001b[0m\n\u001b[0;32m----> 7\u001b[0;31m \u001b[0ma\u001b[0m \u001b[0;34m=\u001b[0m \u001b[0mTheNounProjectAPI\u001b[0m\u001b[0;34m.\u001b[0m\u001b[0mmodels\u001b[0m\u001b[0;34m.\u001b[0m\u001b[0mIconsModel\u001b[0m\u001b[0;34m.\u001b[0m\u001b[0mparse\u001b[0m\u001b[0;34m(\u001b[0m\u001b[0micons\u001b[0m\u001b[0;34m,\u001b[0m \u001b[0mresponse\u001b[0m\u001b[0;34m=\u001b[0m\u001b[0;32mNone\u001b[0m\u001b[0;34m)\u001b[0m\u001b[0;34m\u001b[0m\u001b[0;34m\u001b[0m\u001b[0m\n\u001b[0m\u001b[1;32m      8\u001b[0m \u001b[0;34m\u001b[0m\u001b[0m\n\u001b[1;32m      9\u001b[0m \u001b[0;31m# I think the error is happening because the data from the model is supposed to be json\u001b[0m\u001b[0;34m\u001b[0m\u001b[0;34m\u001b[0m\u001b[0;34m\u001b[0m\u001b[0m\n",
      "\u001b[0;32m/home/envs/portfolio/lib/python3.7/site-packages/TheNounProjectAPI/models.py\u001b[0m in \u001b[0;36mparse\u001b[0;34m(cls, data, response)\u001b[0m\n\u001b[1;32m    117\u001b[0m         \u001b[0mIn\u001b[0m \u001b[0maddition\u001b[0m\u001b[0;34m,\u001b[0m \u001b[0mthis\u001b[0m \u001b[0mlist\u001b[0m \u001b[0mmay\u001b[0m \u001b[0mhave\u001b[0m \u001b[0msome\u001b[0m \u001b[0madditional\u001b[0m \u001b[0mattributes\u001b[0m \u001b[0mlike\u001b[0m\u001b[0;31m \u001b[0m\u001b[0;31m`\u001b[0m\u001b[0mgenerated_at\u001b[0m\u001b[0;31m`\u001b[0m \u001b[0mbased\u001b[0m \u001b[0mon\u001b[0m \u001b[0mthe\u001b[0m \u001b[0mdata\u001b[0m \u001b[0mdictionary\u001b[0m\u001b[0;34m.\u001b[0m\u001b[0;34m\u001b[0m\u001b[0;34m\u001b[0m\u001b[0m\n\u001b[1;32m    118\u001b[0m         \"\"\"\n\u001b[0;32m--> 119\u001b[0;31m         \u001b[0;32mreturn\u001b[0m \u001b[0msuper\u001b[0m\u001b[0;34m(\u001b[0m\u001b[0;34m)\u001b[0m\u001b[0;34m.\u001b[0m\u001b[0mparse\u001b[0m\u001b[0;34m(\u001b[0m\u001b[0mdata\u001b[0m\u001b[0;34m,\u001b[0m \u001b[0mIconModel\u001b[0m\u001b[0;34m,\u001b[0m \u001b[0mmain_keys\u001b[0m\u001b[0;34m=\u001b[0m\u001b[0;34m[\u001b[0m\u001b[0;34m\"icons\"\u001b[0m\u001b[0;34m,\u001b[0m \u001b[0;34m\"recent_uploads\"\u001b[0m\u001b[0;34m,\u001b[0m \u001b[0;34m\"uploads\"\u001b[0m\u001b[0;34m]\u001b[0m\u001b[0;34m,\u001b[0m \u001b[0mresponse\u001b[0m\u001b[0;34m=\u001b[0m\u001b[0mresponse\u001b[0m\u001b[0;34m)\u001b[0m\u001b[0;34m\u001b[0m\u001b[0;34m\u001b[0m\u001b[0m\n\u001b[0m\u001b[1;32m    120\u001b[0m \u001b[0;34m\u001b[0m\u001b[0m\n\u001b[1;32m    121\u001b[0m \u001b[0;32mclass\u001b[0m \u001b[0mUsageModel\u001b[0m\u001b[0;34m(\u001b[0m\u001b[0mModel\u001b[0m\u001b[0;34m)\u001b[0m\u001b[0;34m:\u001b[0m\u001b[0;34m\u001b[0m\u001b[0;34m\u001b[0m\u001b[0m\n",
      "\u001b[0;32m/home/envs/portfolio/lib/python3.7/site-packages/TheNounProjectAPI/models.py\u001b[0m in \u001b[0;36mparse\u001b[0;34m(cls, data, instance_class, main_keys, response)\u001b[0m\n\u001b[1;32m     52\u001b[0m         \u001b[0mIn\u001b[0m \u001b[0maddition\u001b[0m\u001b[0;34m,\u001b[0m \u001b[0mthis\u001b[0m \u001b[0mlist\u001b[0m \u001b[0mhas\u001b[0m \u001b[0msome\u001b[0m \u001b[0madditional\u001b[0m \u001b[0mattributes\u001b[0m \u001b[0mbased\u001b[0m \u001b[0mon\u001b[0m \u001b[0mthe\u001b[0m \u001b[0mdata\u001b[0m \u001b[0mdictionary\u001b[0m\u001b[0;34m.\u001b[0m\u001b[0;34m\u001b[0m\u001b[0;34m\u001b[0m\u001b[0m\n\u001b[1;32m     53\u001b[0m         \"\"\"\n\u001b[0;32m---> 54\u001b[0;31m         \u001b[0mmain_dict\u001b[0m \u001b[0;34m=\u001b[0m \u001b[0;34m[\u001b[0m\u001b[0mdata\u001b[0m\u001b[0;34m[\u001b[0m\u001b[0mkey\u001b[0m\u001b[0;34m]\u001b[0m \u001b[0;32mfor\u001b[0m \u001b[0mkey\u001b[0m \u001b[0;32min\u001b[0m \u001b[0mmain_keys\u001b[0m \u001b[0;32mif\u001b[0m \u001b[0mkey\u001b[0m \u001b[0;32min\u001b[0m \u001b[0mdata\u001b[0m\u001b[0;34m]\u001b[0m\u001b[0;34m[\u001b[0m\u001b[0;36m0\u001b[0m\u001b[0;34m]\u001b[0m\u001b[0;34m\u001b[0m\u001b[0;34m\u001b[0m\u001b[0m\n\u001b[0m\u001b[1;32m     55\u001b[0m         \u001b[0minstance\u001b[0m \u001b[0;34m=\u001b[0m \u001b[0mcls\u001b[0m\u001b[0;34m(\u001b[0m\u001b[0;34m)\u001b[0m\u001b[0;34m\u001b[0m\u001b[0;34m\u001b[0m\u001b[0m\n\u001b[1;32m     56\u001b[0m         \u001b[0minstance\u001b[0m\u001b[0;34m.\u001b[0m\u001b[0mextend\u001b[0m\u001b[0;34m(\u001b[0m\u001b[0;34m[\u001b[0m\u001b[0minstance_class\u001b[0m\u001b[0;34m.\u001b[0m\u001b[0mparse\u001b[0m\u001b[0;34m(\u001b[0m\u001b[0mitem\u001b[0m\u001b[0;34m)\u001b[0m \u001b[0;32mfor\u001b[0m \u001b[0mitem\u001b[0m \u001b[0;32min\u001b[0m \u001b[0mmain_dict\u001b[0m\u001b[0;34m]\u001b[0m\u001b[0;34m)\u001b[0m\u001b[0;34m\u001b[0m\u001b[0;34m\u001b[0m\u001b[0m\n",
      "\u001b[0;31mIndexError\u001b[0m: list index out of range"
     ]
    }
   ],
   "source": [
    "# We could parse through the results manually using string parsing, but the docs say the\n",
    "# Model returns json. I'm not seeing that though, maybe there is a classmethod I am missing.\n",
    "\n",
    "type(icons)\n",
    "\n",
    "# https://cubiedev.github.io/TheNounProjectAPI/models.html\n",
    "a = TheNounProjectAPI.models.IconsModel.parse(icons, response=None)\n",
    "\n",
    "# I think the error is happening because the data from the model is supposed to be json\n",
    "# However, the data in the model is just a list.   "
   ]
  },
  {
   "cell_type": "code",
   "execution_count": 103,
   "metadata": {},
   "outputs": [],
   "source": [
    "# Okay, so punting on extracting the list of image_ids for the moment:\n",
    "import pprint\n",
    "\n",
    "auth = OAuth1(\"c19cb58fd48d4cadacb07d3ab115fb1d\", \"e5cf175be1024629bc014467d76705c0\")\n",
    "endpoint = \"http://api.thenounproject.com/icon/52823\"\n",
    "\n",
    "response = requests.get(endpoint, auth=auth)\n",
    "free_icon = response.json()"
   ]
  },
  {
   "cell_type": "code",
   "execution_count": 104,
   "metadata": {},
   "outputs": [
    {
     "data": {
      "text/plain": [
       "dict"
      ]
     },
     "execution_count": 104,
     "metadata": {},
     "output_type": "execute_result"
    }
   ],
   "source": [
    "type(free_icon)"
   ]
  },
  {
   "cell_type": "code",
   "execution_count": 105,
   "metadata": {},
   "outputs": [
    {
     "name": "stdout",
     "output_type": "stream",
     "text": [
      "{'icon': {'attribution': 'Free by Sunny Walker from Noun Project',\n",
      "          'collections': [],\n",
      "          'date_uploaded': '2014-05-29',\n",
      "          'icon_url': 'https://static.thenounproject.com/noun-svg/52823.svg?Expires=1578249613&Signature=QIzEOF9OTw0u1iX7lGJrM55cPxjMIlQpA6SZ4IGoJN-QLMCDD-nVNBv5FvhtxUQ~BqBxRmKCYIz1lnIUWQrTOG69Rvuqv8En0ejyzhDs4Zj2yGbVxFTySwl~JOYqLdukaoOFM8AXG0g-L7tiEMHakW4ybU834G0mzYrKT2jkklY_&Key-Pair-Id=APKAI5ZVHAXN65CHVU2Q',\n",
      "          'id': '52823',\n",
      "          'is_active': '1',\n",
      "          'is_explicit': '0',\n",
      "          'license_description': 'public-domain',\n",
      "          'nounji_free': '0',\n",
      "          'permalink': '/term/free/52823',\n",
      "          'preview_url': 'https://static.thenounproject.com/png/52823-200.png',\n",
      "          'preview_url_42': 'https://static.thenounproject.com/png/52823-42.png',\n",
      "          'preview_url_84': 'https://static.thenounproject.com/png/52823-84.png',\n",
      "          'sponsor': {},\n",
      "          'sponsor_campaign_link': None,\n",
      "          'sponsor_id': '',\n",
      "          'tags': [{'id': 746, 'slug': 'free'},\n",
      "                   {'id': 2696, 'slug': 'pay'},\n",
      "                   {'id': 7199, 'slug': 'not-allowed'},\n",
      "                   {'id': 32795, 'slug': 'no-savings'},\n",
      "                   {'id': 36891, 'slug': 'no-pay'},\n",
      "                   {'id': 32794, 'slug': 'no-money'},\n",
      "                   {'id': 36890, 'slug': 'no-fees'},\n",
      "                   {'id': 36889, 'slug': 'no-fee'},\n",
      "                   {'id': 36888, 'slug': 'no-cash'},\n",
      "                   {'id': 561, 'slug': 'no'},\n",
      "                   {'id': 833, 'slug': 'money'},\n",
      "                   {'id': 1273, 'slug': 'dollar'},\n",
      "                   {'id': 2952, 'slug': 'deny'},\n",
      "                   {'id': 36892, 'slug': 'payment-free'}],\n",
      "          'term': 'Free',\n",
      "          'term_id': 746,\n",
      "          'term_slug': 'free',\n",
      "          'updated_at': '2019-04-22 19:22:17',\n",
      "          'uploader': {'location': 'US',\n",
      "                       'name': 'Sunny Walker',\n",
      "                       'permalink': '/thunderpaw',\n",
      "                       'username': 'thunderpaw'},\n",
      "          'uploader_id': '115506',\n",
      "          'year': 2014}}\n"
     ]
    }
   ],
   "source": [
    "pprint.pprint(free_icon)"
   ]
  },
  {
   "cell_type": "code",
   "execution_count": 107,
   "metadata": {},
   "outputs": [],
   "source": [
    "test_url = free_icon['icon']['icon_url']\n",
    "\n",
    "Picture_request = requests.get(test_url, auth=auth)\n",
    "if Picture_request.status_code == 200:\n",
    "    with open(\"./test_image.svg\", 'wb') as f:\n",
    "        f.write(Picture_request.content)\n",
    "        \n",
    "# This works fine.  The SVGs are nice because they are vector and very small for file storage\n",
    "# I think we would write a resize function to resize and convert to a raster like a .png\n",
    "#\n",
    "# Using this approach you could pretty easily put bullets and associated text automatically on a\n",
    "# .pptx file dynamically.  That would save a lot of proposal dev time."
   ]
  },
  {
   "cell_type": "code",
   "execution_count": null,
   "metadata": {},
   "outputs": [],
   "source": []
  }
 ],
 "metadata": {
  "kernelspec": {
   "display_name": "Py37-portfolio",
   "language": "python",
   "name": "portfolio"
  },
  "language_info": {
   "codemirror_mode": {
    "name": "ipython",
    "version": 3
   },
   "file_extension": ".py",
   "mimetype": "text/x-python",
   "name": "python",
   "nbconvert_exporter": "python",
   "pygments_lexer": "ipython3",
   "version": "3.7.3"
  }
 },
 "nbformat": 4,
 "nbformat_minor": 2
}

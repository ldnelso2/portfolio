{
 "cells": [
  {
   "cell_type": "code",
   "execution_count": 2,
   "metadata": {},
   "outputs": [],
   "source": [
    "from collections import defaultdict, OrderedDict\n",
    "from functools import reduce\n",
    "from itertools import chain, cycle, islice\n",
    "\n",
    "import pandas as pd\n",
    "import matplotlib.pyplot as plt\n",
    "import matplotlib.ticker as ticker\n",
    "import numpy as np\n",
    "import ipywidgets as widgets\n",
    "from IPython.display import display, HTML\n",
    "import smartsheet\n",
    "\n",
    "from portfolio import (FTECashFlow, CashFlow, combine_flows, debug_row, discount,\n",
    "                       PortfolioFTEParser, PortfolioSheetRow, debug_row)\n",
    "from utils import colorscale, get_smartsheet_cell, currency_fmt_to_cols, SmartsheetRow"
   ]
  },
  {
   "cell_type": "markdown",
   "metadata": {},
   "source": [
    "# Portfolio Cash Flow Analysis"
   ]
  },
  {
   "cell_type": "code",
   "execution_count": 3,
   "metadata": {},
   "outputs": [],
   "source": [
    "# Define a quartely time schema\n",
    "years_in_model = 3\n",
    "periods_in_year = 4\n",
    "# TODO: rename to \"periods_1_12\"\n",
    "quarters = list(range(1, years_in_model * periods_in_year + 1))  # list bc we don't want this to be a generator\n",
    "# TODO: rename to \"periods_0_11\"\n",
    "quarters_index = list(range(years_in_model * periods_in_year))\n",
    "quarter_labels = ['Q' + str(q) for q in quarters]\n",
    "\n",
    "# smartsheet\n",
    "access_token = 'u1zwu2cf2708fdfuy6y46ttwx3'\n",
    "sheet_id = 3317327430215556\n",
    "ss = smartsheet.Smartsheet(access_token)\n",
    "sheet = ss.Sheets.get_sheet(sheet_id)\n",
    "\n",
    "# COST_BASELINE = get_smartsheet_cell(21, 3, sheet, 'value') / periods_in_year  # ($M/year)\n",
    "COST_VARIABLE = get_smartsheet_cell(21, 3, sheet, 'value') / periods_in_year  # ($/DGY)\n",
    "COST_PER_FTE  = get_smartsheet_cell(12, 3, sheet, 'value') / periods_in_year  # ($M/yr)"
   ]
  },
  {
   "cell_type": "code",
   "execution_count": 4,
   "metadata": {
    "scrolled": false
   },
   "outputs": [],
   "source": [
    "# Allow for easy targeting of rows, here [20 - 70]\n",
    "SHEET_ROW_START = 161\n",
    "SHEET_ROW_END = 221\n",
    "\n",
    "def sheet_row_to_cf(row):\n",
    "    if isinstance(row, PortfolioSheetRow):\n",
    "        return CashFlow(\n",
    "            delay_qtrs = row.delay_qtrs,\n",
    "            digital_gallons = row.digital_gallons,\n",
    "            discount_rate = row.discount_rate,\n",
    "            max_amt = row.max_amt,\n",
    "            scale_up_qtrs = row.scale_up_qtrs,\n",
    "            function = row.function,\n",
    "            name = row.name,\n",
    "            is_cost = row.is_cost,\n",
    "            start_amt=row.start_value,\n",
    "        )\n",
    "    else:  # PortfolioFTEParser\n",
    "        return FTECashFlow(\n",
    "            discount_rate = row.discount_rate,\n",
    "            fte_per_period = row.fte_per_period,\n",
    "            fte_period_cost = COST_PER_FTE,\n",
    "            fte_y1 = row.fte_y1,\n",
    "            fte_y2 = row.fte_y2,\n",
    "            fte_y3 = row.fte_y3,\n",
    "            name = row.name\n",
    "        )\n",
    "\n",
    "def get_parser_for_row(sheet_row):\n",
    "    \"\"\"Not all rows are the same. This function will choose the correct parser,\n",
    "       and show there is not a parser if it is a row that should be skipped\"\"\"\n",
    "    cells = sheet_row.to_dict()['cells']\n",
    "    include = cells[PortfolioSheetRow.CELL_08.index].get('value', None)\n",
    "    include = True if include == \"Yes\" else False\n",
    "    project_code = cells[PortfolioSheetRow.CELL_09.index].get('value', None)\n",
    "    function = cells[PortfolioSheetRow.CELL_14.index].get('value', None)\n",
    "    if not include or project_code is None or function is None:\n",
    "        return None\n",
    "    elif function == 'Multi-Step (Yr)':\n",
    "        return PortfolioFTEParser\n",
    "    else:\n",
    "        return PortfolioSheetRow\n",
    "\n",
    "# iterate through smartsheet and build project map, then sort it\n",
    "project_map = defaultdict(list)\n",
    "for index, sheet_row in enumerate(sheet.rows):\n",
    "    if index < SHEET_ROW_START or index > SHEET_ROW_END:\n",
    "        continue\n",
    "    Parser = get_parser_for_row(sheet_row)\n",
    "    if Parser is None:\n",
    "        continue\n",
    "\n",
    "    row = Parser(sheet_row.to_dict())\n",
    "    project_map[row.project_code].append(sheet_row_to_cf(row))\n",
    "\n",
    "project_map = OrderedDict(sorted(project_map.items()))  # sort ordered dictionary by keys"
   ]
  },
  {
   "cell_type": "code",
   "execution_count": 5,
   "metadata": {
    "scrolled": false
   },
   "outputs": [
    {
     "data": {
      "text/html": [
       "<div>\n",
       "<style scoped>\n",
       "    .dataframe tbody tr th:only-of-type {\n",
       "        vertical-align: middle;\n",
       "    }\n",
       "\n",
       "    .dataframe tbody tr th {\n",
       "        vertical-align: top;\n",
       "    }\n",
       "\n",
       "    .dataframe thead th {\n",
       "        text-align: right;\n",
       "    }\n",
       "</style>\n",
       "<table border=\"1\" class=\"dataframe\">\n",
       "  <thead>\n",
       "    <tr style=\"text-align: right;\">\n",
       "      <th></th>\n",
       "      <th>project</th>\n",
       "      <th>discounted</th>\n",
       "      <th>NPV ($)</th>\n",
       "    </tr>\n",
       "  </thead>\n",
       "  <tbody>\n",
       "    <tr>\n",
       "      <th>1</th>\n",
       "      <td>BP</td>\n",
       "      <td>1.0</td>\n",
       "      <td>5.87m</td>\n",
       "    </tr>\n",
       "    <tr>\n",
       "      <th>3</th>\n",
       "      <td>FS</td>\n",
       "      <td>1.0</td>\n",
       "      <td>10.4m</td>\n",
       "    </tr>\n",
       "    <tr>\n",
       "      <th>5</th>\n",
       "      <td>INT</td>\n",
       "      <td>1.0</td>\n",
       "      <td>-3.13m</td>\n",
       "    </tr>\n",
       "    <tr>\n",
       "      <th>7</th>\n",
       "      <td>PV</td>\n",
       "      <td>1.0</td>\n",
       "      <td>9.53m</td>\n",
       "    </tr>\n",
       "    <tr>\n",
       "      <th>Total</th>\n",
       "      <td>NaN</td>\n",
       "      <td>4.0</td>\n",
       "      <td>22.6m</td>\n",
       "    </tr>\n",
       "  </tbody>\n",
       "</table>\n",
       "</div>"
      ],
      "text/plain": [
       "      project  discounted NPV ($)\n",
       "1          BP         1.0   5.87m\n",
       "3          FS         1.0   10.4m\n",
       "5         INT         1.0  -3.13m\n",
       "7          PV         1.0   9.53m\n",
       "Total     NaN         4.0   22.6m"
      ]
     },
     "execution_count": 5,
     "metadata": {},
     "output_type": "execute_result"
    }
   ],
   "source": [
    "# Build Cash Flow DataFrame from project_map\n",
    "rows = []\n",
    "for project_id, cash_flows in project_map.items():\n",
    "    for cash_flow in cash_flows:\n",
    "        rows.append([project_id, True, cash_flow.name] + cash_flow.discounted_qtr)  # Discounted\n",
    "        rows.append([project_id, False, cash_flow.name] + cash_flow.non_discounted_qtr)  # Undiscounted\n",
    "        \n",
    "cf_df = pd.DataFrame(data=rows, columns=['project', 'discounted', 'name'] + quarter_labels)\n",
    "summarized_df = cf_df.groupby(['project', 'discounted'])\\\n",
    "                  .sum(numeric_only=True)\\\n",
    "                  .sum(numeric_only=True, axis=1)\\\n",
    "                  .reset_index(name='NPV ($)')\\\n",
    "                  .sort_values(by=['project'])\n",
    "\n",
    "# Create a dataframe with variable cost\n",
    "rows = []\n",
    "for project_id, flows in project_map.items():\n",
    "    unit_multiplier = 10**6  # put in dollars\n",
    "    dg_to_variable_cost = lambda v: v * unit_multiplier * COST_VARIABLE\n",
    "\n",
    "    for cf in flows:\n",
    "        d_dg_cost = list(map(dg_to_variable_cost, cf.discounted_dg_qtr))\n",
    "        nd_dg_cost = list(map(dg_to_variable_cost, cf.non_discounted_dg_qtr))\n",
    "        d_variable_cost = [0]  # No variable cost at Q0\n",
    "        nd_variable_cost = [0]  # No variable cost at Q0\n",
    "        # iterable is of form [(0, (0, 1)), (1, (1, 2)), (n, (n + 1))]\n",
    "        for index, step in list(enumerate(zip(quarters_index, quarters)))[:-1]:  \n",
    "            # integraing using trapezoidal riemann sum\n",
    "            d_variable_cost.append(np.trapz([d_dg_cost[index], d_dg_cost[index + 1]], step))\n",
    "            nd_variable_cost.append(np.trapz([nd_dg_cost[index], nd_dg_cost[index + 1]], step))\n",
    "    \n",
    "        rows.append([project_id, True, cf.name] + d_variable_cost)\n",
    "        rows.append([project_id, False, cf.name] + nd_variable_cost)\n",
    "    \n",
    "vc_df = pd.DataFrame(data=rows, columns=['project', 'discounted', 'name'] + quarter_labels)\n",
    "summarized_vc_df = vc_df.groupby(['project', 'discounted'])\\\n",
    "                      .sum(numeric_only=True)\\\n",
    "                      .sum(numeric_only=True, axis=1)\\\n",
    "                      .reset_index(name='Variable Cost ($)')\\\n",
    "                      .sort_values(by=['project'])\n",
    "# Merge the two together\n",
    "summarized = pd.merge(summarized_df, summarized_vc_df, how='inner', on=['project', 'discounted'])\n",
    "summarized = summarized.apply(currency_fmt_to_cols(['NPV ($)', 'Variable Cost ($)']))\n",
    "\n",
    "d_df_sum = summarized_df[summarized_df['discounted']].copy()\n",
    "d_df_sum.loc[\"Total\"] = d_df_sum.sum(numeric_only=True)\n",
    "d_df_sum.apply(currency_fmt_to_cols(['NPV ($)']))"
   ]
  },
  {
   "cell_type": "code",
   "execution_count": 6,
   "metadata": {},
   "outputs": [
    {
     "data": {
      "image/png": "[encoded data removed]",
      "text/plain": [
       "<Figure size 432x288 with 1 Axes>"
      ]
     },
     "metadata": {},
     "output_type": "display_data"
    }
   ],
   "source": [
    "def gen_label(row):\n",
    "    postfix = '_discounted' if row['discounted'] else ''\n",
    "    return row['project']# + postfix\n",
    "\n",
    "cf_df = cf_df[cf_df['discounted']]\n",
    "table = cf_df.groupby(['project', 'discounted'])\\\n",
    "          .sum(numeric_only=True)\\\n",
    "          .sum(numeric_only=True, axis=1)\\\n",
    "          .reset_index(name='NPV')\\\n",
    "          .sort_values(by=['project'])\n",
    "\n",
    "table['label'] = table.apply(gen_label, axis=1)\n",
    "table.loc[table.shape[0]] = ['Total','-',table['NPV'].sum(), 'Total'] \n",
    "# table = table.apply(currency_fmt_to_cols(['NPV']))\n",
    "\n",
    "# This is way overly complex, but was fun to write\n",
    "colors = [\"#9e008c\", \"#C5DA00\", \"#A0C8F0\", \"#9BA08C\", 'black']\n",
    "colors_cycled = list(islice(\n",
    "    cycle(colors),     # generator of infinitely repeated colors\n",
    "    0,                 # start at the beginning\n",
    "    len(project_map)), # we're going to zip later & 2x the proj num is # of bars\n",
    ") \n",
    "darkened_colors = map(lambda color: colorscale(color, .5), colors_cycled)\n",
    "bar_colors = list(chain.from_iterable(zip(colors_cycled, darkened_colors)))\n",
    "\n",
    "# TODO: Only discounted, update title, add total\n",
    "\n",
    "# TODO: Add colors to bars based on project code beign in the x-axis label\n",
    "fig = plt.figure()\n",
    "# plt.xticks(rotation=90)\n",
    "fig.patch.set_facecolor('#ffffff')\n",
    "ax = fig.add_subplot(1, 1, 1)\n",
    "ax.bar(table['label'], table['NPV'], color=colors)\n",
    "ax.set_title('Risk Adjusted 3-Yr NPV by Serivce')\n",
    "ax.yaxis.set_major_formatter(ticker.EngFormatter())\n",
    "# ax.tick_params(axis='x', labelrotation=90)\n",
    "ax.grid(True)"
   ]
  },
  {
   "cell_type": "code",
   "execution_count": 7,
   "metadata": {
    "scrolled": false
   },
   "outputs": [],
   "source": [
    "def display_dataframe(df, title):\n",
    "    display(HTML(f'<div><h3>{title}</h3></div>'))\n",
    "    df.loc[\"Total\"] = df.sum(numeric_only=True)\n",
    "    df = df.apply(currency_fmt_to_cols(quarter_labels))\n",
    "    cleaned = df.drop(['project', 'discounted'], axis=1)\n",
    "    display(cleaned)\n",
    "\n",
    "    \n",
    "#for project_id in cf_df['project'].unique():\n",
    "#    display(HTML(f'<div><h1>{project_id}</h1><hr /></div>'))\n",
    "#    ndf = cf_df[cf_df['project'] == project_id].set_index('name')\n",
    "#    display_dataframe(ndf[ndf['discounted']].copy(), \"Discounted Cash Flows\")\n",
    "#    display_dataframe(ndf[ndf['discounted'] == False].copy(), \"Undiscounted Cash Flows\")"
   ]
  },
  {
   "cell_type": "code",
   "execution_count": 8,
   "metadata": {},
   "outputs": [],
   "source": [
    "class Project():\n",
    "    \"\"\"Add cash flows to a project\"\"\"\n",
    "    def __init__(self, name, cash_flows=None):\n",
    "        self.name = name\n",
    "        self.cash_flows = cash_flows\n",
    "        # Generate Graph portion\n",
    "        self.graph_out = widgets.Output()\n",
    "        self.update_graphs()\n",
    "        # Generate Table portion\n",
    "        self.table_out = widgets.Output()\n",
    "        self.update_table()\n",
    "        self.app = widgets.VBox(children=[self.graph_out, self.table_out], layout=widgets.Layout(overflow=\"hidden\"))\n",
    "        display(self.app)\n",
    "    \n",
    "    def to_df(self):\n",
    "        df = pd.DataFrame(map(lambda cf: cf.to_json(), self.cash_flows)).drop(['flow_id'], axis=1)\n",
    "        return df.set_index('name')\n",
    "            \n",
    "    def update_table(self):\n",
    "        self.table_out.clear_output(wait=True)\n",
    "        if len(self.cash_flows) == 0:\n",
    "            return\n",
    "        \n",
    "        table = self.to_df()\n",
    "        with self.table_out:\n",
    "            display(table)\n",
    "        \n",
    "    def update_graphs(self):\n",
    "        self.graph_out.clear_output(wait=True)\n",
    "        if len(self.cash_flows) == 0:\n",
    "            return\n",
    "\n",
    "        def trim_axs(axs, N):\n",
    "            axs = axs.flat\n",
    "            for ax in axs[N:]:\n",
    "                ax.remove()\n",
    "            return axs[:N]\n",
    "        \n",
    "        def get_max(flows):\n",
    "            values = reduce(\n",
    "                list.__add__,\n",
    "                [list(map(\n",
    "                    lambda v: abs(v),\n",
    "                    flow.non_discounted_qtr + flow.discounted_qtr\n",
    "                )) for flow in flows])\n",
    "            maximum = max(values)\n",
    "            maximum += maximum * .2  # pad value\n",
    "            return -1 * maximum, maximum\n",
    "        \n",
    "        # capture stdout of matplotlib to output catching context graph_out as widget to include\n",
    "        with self.graph_out:\n",
    "            cols = 4\n",
    "            num_cash_flows = len(self.cash_flows)\n",
    "            rows = 1 if num_cash_flows == 4 else num_cash_flows // cols + 1\n",
    "            figsize = (12, rows * 3)\n",
    "            fig, axs = plt.subplots(rows, cols, figsize=figsize, constrained_layout=True)\n",
    "            fig.patch.set_facecolor('#ffffff')\n",
    "            axs = trim_axs(axs, len(self.cash_flows))\n",
    "            ymin, ymax = get_max(self.cash_flows)\n",
    "            for ax, cf in zip(axs, self.cash_flows):\n",
    "                ax.set_title(cf.name)\n",
    "                ax.set_ylim([ymin,ymax])\n",
    "                ax.grid(True)\n",
    "                ax.yaxis.set_major_formatter(ticker.EngFormatter())\n",
    "                ax.xaxis.set_ticks(range(1, 13))\n",
    "                ax.axhline(y=0, color='black', linestyle='--')\n",
    "                # TODO: should pull from \"tot_qtrs\" in some way\n",
    "#                 linestyle_discounted = '-' if cf.discounted else '--'\n",
    "#                 linestyle_non_discounted = '--' if cf.discounted else '-'\n",
    "                ax.plot(quarters_index, cf.discounted_qtr, color='r', label='discounted')\n",
    "                ax.plot(quarters_index, cf.non_discounted_qtr, label='non-discounted')\n",
    "                ax.legend()\n",
    "                \n",
    "            plt.show(fig)"
   ]
  },
  {
   "cell_type": "code",
   "execution_count": 9,
   "metadata": {
    "scrolled": false
   },
   "outputs": [
    {
     "data": {
      "text/html": [
       "<div><h1>BP - EBITDA</h1><br /><hr /></div>"
      ],
      "text/plain": [
       "<IPython.core.display.HTML object>"
      ]
     },
     "metadata": {},
     "output_type": "display_data"
    },
    {
     "data": {
      "application/vnd.jupyter.widget-view+json": {
       "model_id": "7854ff8e94c843429d1b0011fb509a85",
       "version_major": 2,
       "version_minor": 0
      },
      "text/plain": [
       "VBox(children=(Output(), Output()), layout=Layout(overflow='hidden'))"
      ]
     },
     "metadata": {},
     "output_type": "display_data"
    },
    {
     "data": {
      "text/html": [
       "<div><h1>FS - EBITDA</h1><br /><hr /></div>"
      ],
      "text/plain": [
       "<IPython.core.display.HTML object>"
      ]
     },
     "metadata": {},
     "output_type": "display_data"
    },
    {
     "data": {
      "application/vnd.jupyter.widget-view+json": {
       "model_id": "611386c0d9f04a6cb75997271a3f5882",
       "version_major": 2,
       "version_minor": 0
      },
      "text/plain": [
       "VBox(children=(Output(), Output()), layout=Layout(overflow='hidden'))"
      ]
     },
     "metadata": {},
     "output_type": "display_data"
    },
    {
     "data": {
      "text/html": [
       "<div><h1>INT - EBITDA</h1><br /><hr /></div>"
      ],
      "text/plain": [
       "<IPython.core.display.HTML object>"
      ]
     },
     "metadata": {},
     "output_type": "display_data"
    },
    {
     "data": {
      "application/vnd.jupyter.widget-view+json": {
       "model_id": "0b68aebb7266403db85743e1d51e2138",
       "version_major": 2,
       "version_minor": 0
      },
      "text/plain": [
       "VBox(children=(Output(), Output()), layout=Layout(overflow='hidden'))"
      ]
     },
     "metadata": {},
     "output_type": "display_data"
    },
    {
     "data": {
      "text/html": [
       "<div><h1>PV - EBITDA</h1><br /><hr /></div>"
      ],
      "text/plain": [
       "<IPython.core.display.HTML object>"
      ]
     },
     "metadata": {},
     "output_type": "display_data"
    },
    {
     "data": {
      "application/vnd.jupyter.widget-view+json": {
       "model_id": "ab6090f4f1524c11a496f504680b06ad",
       "version_major": 2,
       "version_minor": 0
      },
      "text/plain": [
       "VBox(children=(Output(), Output()), layout=Layout(overflow='hidden'))"
      ]
     },
     "metadata": {},
     "output_type": "display_data"
    }
   ],
   "source": [
    "# Build UI from project_map\n",
    "projects = []\n",
    "for project_id, cash_flows in project_map.items():\n",
    "    display(HTML(f'<div><h1>{project_id} - EBITDA</h1><br /><hr /></div>'))\n",
    "    projects.append(Project(project_id, cash_flows))\n",
    "    \n",
    "projects.sort(key=lambda x: x.name)"
   ]
  },
  {
   "cell_type": "code",
   "execution_count": 10,
   "metadata": {
    "scrolled": false
   },
   "outputs": [
    {
     "data": {
      "application/vnd.jupyter.widget-view+json": {
       "model_id": "93d94729c56d4977be52cc929b982692",
       "version_major": 2,
       "version_minor": 0
      },
      "text/plain": [
       "VBox(children=(Output(),))"
      ]
     },
     "metadata": {},
     "output_type": "display_data"
    }
   ],
   "source": [
    "graph_out = widgets.Output()\n",
    "\n",
    "def get_x_ticks(index, bar_width, step=1):\n",
    "    return [x - (bar_width * len(projects)) + (bar_width * index) for x in range(12)]\n",
    "\n",
    "def plot_projects_summary(cf_attribute):\n",
    "    projects_values = map(lambda p: combine_flows(p.cash_flows, cf_attribute), projects)\n",
    "    projects_net = [sum(values) for values in zip(*projects_values)]\n",
    "\n",
    "    figsize = (25, 8)\n",
    "    fig, ax = plt.subplots(figsize=figsize)\n",
    "    ax.yaxis.set_major_formatter(ticker.EngFormatter())\n",
    "    fig.patch.set_facecolor('#ffffff')\n",
    "    plt.xticks(range(0, 12))\n",
    "    bar_room = .75 # 75% of space will have a bar plotted on it\n",
    "    bar_width = bar_room * 1 / (len(projects) + 1)  # + 1 in denominator to account for 'net'\n",
    "    legend_parents = []\n",
    "    for i, project in enumerate(projects):\n",
    "        xseries = get_x_ticks(i, bar_width)\n",
    "        plot = plt.bar(\n",
    "            xseries,\n",
    "            combine_flows(project.cash_flows, cf_attribute),\n",
    "            width=bar_width,\n",
    "            color=colors[i]\n",
    "        )\n",
    "        legend_parents.append(plot)\n",
    "\n",
    "    legend_parents = [p[0] for p in legend_parents]\n",
    "    net_xseries = get_x_ticks(len(projects), bar_width)\n",
    "    net_plot = plt.bar(quarter_labels, projects_net, color='black', width=bar_width)\n",
    "\n",
    "    legend_parents.append(net_plot[0])\n",
    "    plt.legend((*legend_parents,), (*map(lambda p: p.name, projects), 'net'), loc='upper left')\n",
    "    plt.show()\n",
    "    \n",
    "def plot_digital_gallons():\n",
    "    fig, ax = plt.subplots(figsize=(8, 6))\n",
    "    fig.patch.set_facecolor('#ffffff')\n",
    "    flows = [quarter_labels]  # first argument are x-labels in stackplots\n",
    "    for project in projects:\n",
    "        aggregated_dg_qtr = combine_flows(project.cash_flows, 'non_discounted_dg_qtr')\n",
    "#         if project.name == 'FS':\n",
    "#             new_list = []\n",
    "#             for i, num in enumerate(aggregated_dg_qtr):\n",
    "#                 if i == 0:\n",
    "#                     new_list.append(num)\n",
    "#                 else:\n",
    "#                     new_list.append(num - aggregated_dg_qtr[i - 1])\n",
    "            \n",
    "#             aggregated_dg_qtr = new_list\n",
    "#       print(f'{project.name}, ' + ', '.join([str(a) for a in aggregated_dg_qtr]))\n",
    "        \n",
    "        flows.append(list(map(lambda x: x * 10**6, aggregated_dg_qtr)))\n",
    "    plt.stackplot(\n",
    "        *flows,\n",
    "        labels=list(map(lambda p: p.name, projects)),\n",
    "        colors=colors\n",
    "    )\n",
    "    ax.yaxis.set_major_formatter(ticker.EngFormatter())\n",
    "    plt.legend(loc='upper left')\n",
    "    plt.title('Digital Gallon Contribution')\n",
    "    plt.ylabel('Digital Gallons')\n",
    "    plt.show()\n",
    "\n",
    "def plot_program_cost():\n",
    "    \"\"\"Currently units plot in \"millions\". \n",
    "    \n",
    "    multiplier  - 10**0 -> millions\n",
    "                - 10**3 -> hundred thousands dollars\n",
    "                - 10**6 -> dollars\n",
    "    \"\"\"\n",
    "    unit_multiplier = 10**6\n",
    "    fig, ax = plt.subplots(figsize=(8, 6))\n",
    "    fig.patch.set_facecolor('#ffffff')\n",
    "\n",
    "    baseline_cost = [discount(COST_BASELINE * unit_multiplier, .1, period_n) for period_n in quarters_index]\n",
    "    dg_flows = [quarter_labels, baseline_cost]  # first argument are x-labels in stackplots\n",
    "    project_keys = project_map.keys()\n",
    "\n",
    "    agg_vc_df = vc_df.groupby(['project', 'discounted']).sum(numeric_only=True).reset_index()\n",
    "    discounted_agg_vc_df= agg_vc_df[agg_vc_df['discounted']]\n",
    "    for _, row in discounted_agg_vc_df.iterrows():\n",
    "        dg_flows.append([getattr(row, label) for label in quarter_labels])\n",
    "    \n",
    "    ax.yaxis.set_major_formatter(ticker.EngFormatter())\n",
    "    plt.stackplot(\n",
    "        *dg_flows,\n",
    "        labels=['baseline cost'] + list(map(lambda p: p.name + ' variable cost', projects)),\n",
    "        colors=colors\n",
    "    )\n",
    "    plt.legend(loc='upper left')\n",
    "    plt.title('Discounted Program Cost')\n",
    "    plt.show()\n",
    "\n",
    "def graph_projects_cash_flow(_):\n",
    "    graph_out.clear_output(wait=True)\n",
    "    \n",
    "    with graph_out:\n",
    "#         display(HTML('<h2>Program Cost</h2>'))\n",
    "#         plot_program_cost()\n",
    "        \n",
    "        #  disply(HTML('<h2>Digital Gallons by Project'))\n",
    "        plot_digital_gallons()\n",
    "        \n",
    "        display(HTML('<h2>Discounted Cash Flows</h2>'))\n",
    "        plot_projects_summary('discounted_qtr')\n",
    "        \n",
    "        display(HTML('<h2>Undiscounted Cash Flows</h2>'))\n",
    "        plot_projects_summary('non_discounted_qtr')\n",
    "\n",
    "with graph_out:\n",
    "    graph_projects_cash_flow(None)\n",
    "\n",
    "# button = widgets.Button(description='Refresh Chart')\n",
    "# button.on_click(graph_projects_cash_flow)\n",
    "\n",
    "chart = widgets.VBox(children=[graph_out])\n",
    "chart"
   ]
  },
  {
   "cell_type": "code",
   "execution_count": 11,
   "metadata": {},
   "outputs": [],
   "source": [
    "cf_df.sort_values(by=['discounted', 'project'], inplace=True)"
   ]
  },
  {
   "cell_type": "code",
   "execution_count": 12,
   "metadata": {},
   "outputs": [],
   "source": [
    "import string\n",
    "alphabet = string.ascii_uppercase\n",
    "excel_columns_names = list(alphabet)\n",
    "for letter1 in alphabet:\n",
    "    for letter2 in alphabet:\n",
    "        excel_columns_names.append(f'{letter1}{letter2}')"
   ]
  },
  {
   "cell_type": "code",
   "execution_count": 13,
   "metadata": {},
   "outputs": [],
   "source": [
    "# This entire cell contains all of the code needed\n",
    "# to build the excel sheet to be downloaded\n",
    "\n",
    "def record_project(project, sheet, start_row, start_column=0):\n",
    "    df = project.to_df()\n",
    "    df = df.fillna(0)\n",
    "    bold = workbook.add_format({'bold': True})\n",
    "    row_num = start_row\n",
    "    # Write the project name\n",
    "    sheet.write(row_num, start_column, project.name)\n",
    "    row_num += 1\n",
    "    # write index then columns\n",
    "    sheet.write(row_num, start_column, 'index', bold)\n",
    "    for col_index, col in enumerate(df, 1):  # start at 1 since index was written\n",
    "        sheet.write(row_num, start_column + col_index, col, bold)\n",
    "        \n",
    "    for index, row in df.iterrows():\n",
    "        row_num += 1\n",
    "        sheet.write(row_num, start_column, index)\n",
    "        for col_index, cell_value in enumerate(row, 1):\n",
    "            sheet.write(row_num, start_column + col_index, cell_value)\n",
    "\n",
    "writer = pd.ExcelWriter('./demo.xlsx', engine='xlsxwriter')\n",
    "cf_df.to_excel(writer, sheet_name='output', index=False)\n",
    "\n",
    "# calculate which cells hold the quarter values\n",
    "num_quarters = len(quarters)\n",
    "start_row = 2\n",
    "end_row = start_row + len(cf_df) - 1\n",
    "QUARTER_START_COLUMN = 3  # After 'project', 'discouted', and 'name'\n",
    "start_quarter_columns = excel_columns_names[QUARTER_START_COLUMN]\n",
    "end_quarter_columns = excel_columns_names[QUARTER_START_COLUMN + num_quarters]\n",
    "quarter_cells = f'{start_quarter_columns}{start_row}:{end_quarter_columns}{end_row}'\n",
    "\n",
    "# grab objects from pandas object\n",
    "workbook  = writer.book\n",
    "output_worksheet = writer.sheets['output']\n",
    "projects_worksheet = workbook.add_worksheet('projects')\n",
    "\n",
    "start_row = 0\n",
    "for project in projects:\n",
    "    record_project(project, projects_worksheet, start_row)\n",
    "    start_row += len(project.cash_flows) + 3  # 3 for project name, header row, and a space\n",
    "\n",
    "# create and apply formatting\n",
    "float_format = workbook.add_format({'num_format': '##0.0000'})\n",
    "## output sheet\n",
    "output_worksheet.set_column(quarter_cells, None, float_format)\n",
    "output_worksheet.set_column('C:C', 30)\n",
    "output_worksheet.conditional_format(quarter_cells, {'type': '3_color_scale'})\n",
    "## project sheet\n",
    "projects_worksheet.set_column('A:A', 30)\n",
    "projects_worksheet.set_column('B:H', 15)\n",
    "\n",
    "writer.save()"
   ]
  },
  {
   "cell_type": "code",
   "execution_count": 14,
   "metadata": {},
   "outputs": [],
   "source": [
    "# %%html\n",
    "# <style>\n",
    "# .dwnld {\n",
    "#     border: 1px solid black;\n",
    "#     border-radius: 4px;\n",
    "#     padding: 5px;\n",
    "#     text-decoration: none !important;\n",
    "# }\n",
    "# </style>\n",
    "# <a class=\"dwnld\" href=\"./voila/static/demo.xlsx\" download=\"demo.xlsx\">Download Excel Sheet</a>"
   ]
  },
  {
   "cell_type": "code",
   "execution_count": 15,
   "metadata": {},
   "outputs": [],
   "source": [
    "# Play instances\n",
    "# cf = CashFlow(\n",
    "#     delay_qtrs=4, digital_gallons=100, discount_rate=.1, function='sigmoid',\n",
    "#     is_cost=False, start_amt=1, max_amt=5, scale_up_qtrs=4, tot_qtrs=12, name='test'\n",
    "# )\n",
    "# cf.quick_view(discounted=False)"
   ]
  },
  {
   "cell_type": "code",
   "execution_count": null,
   "metadata": {},
   "outputs": [],
   "source": []
  },
  {
   "cell_type": "code",
   "execution_count": 16,
   "metadata": {},
   "outputs": [],
   "source": [
    "# list(range(12)[:4]) + [0 for _ in range(8)]"
   ]
  },
  {
   "cell_type": "code",
   "execution_count": null,
   "metadata": {},
   "outputs": [],
   "source": []
  },
  {
   "cell_type": "code",
   "execution_count": null,
   "metadata": {},
   "outputs": [],
   "source": []
  },
  {
   "cell_type": "code",
   "execution_count": null,
   "metadata": {},
   "outputs": [],
   "source": []
  }
 ],
 "metadata": {
  "kernelspec": {
   "display_name": "portfolio",
   "language": "python",
   "name": "portfolio"
  },
  "language_info": {
   "codemirror_mode": {
    "name": "ipython",
    "version": 3
   },
   "file_extension": ".py",
   "mimetype": "text/x-python",
   "name": "python",
   "nbconvert_exporter": "python",
   "pygments_lexer": "ipython3",
   "version": "3.7.3"
  }
 },
 "nbformat": 4,
 "nbformat_minor": 2
}

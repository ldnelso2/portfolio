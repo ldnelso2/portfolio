{
 "cells": [
  {
   "cell_type": "code",
   "execution_count": 174,
   "metadata": {},
   "outputs": [],
   "source": [
    "import pandas as pd\n",
    "import numpy as np\n",
    "import math\n",
    "import matplotlib.pyplot as plt\n",
    "import ipywidgets as widgets\n",
    "from ipywidgets import interact, interactive, fixed, interact_manual\n",
    "\n",
    "# For logistic growth we can define a sigmoid function\n",
    "# Sigmoid function, f(-6) = 0; f(0) = 0.5;  f(6) = 1.0;\n",
    "# Sigmoid / logistic growth would be a common cash flow profile\n",
    "# Future options to add would be 'step function,' 'linear growth,' 'exponential growth,' etc.\n",
    "def sigmoid(x):\n",
    "    return 1 / (1 + math.exp(-x))\n",
    "\n",
    "# Define a quarterly implementation of logistic growth / sigmoid based on delay in years, max $ amount, and the time to ramp up\n",
    "# All values in quarters except the 'max_amt' which is in dollars($M USD)\n",
    "# max_amt is the 'carrying capacity' of the sigmoid function, usually known as 'k' in academic formulas\n",
    "def sigmoid_qtr(delay_qtrs, max_amt, scale_up_qtrs, tot_qtrs=12):\n",
    "    mylist = []\n",
    "    if scale_up_qtrs < 2: \n",
    "        print('the total number of quarters must be at least one')\n",
    "    # -3 corresponds to 5% of max value, and 3 corresponds to 95% of max value, going to use those values to define function.\n",
    "    sigmoid_start = -3\n",
    "    sigmoid_last = 3\n",
    "    quarterly_x = (sigmoid_last - sigmoid_start) / scale_up_qtrs\n",
    "    # print(f'quarterly_x = {quarterly_x}')\n",
    "    for i in range(0, tot_qtrs):\n",
    "        if i < delay_qtrs:\n",
    "            mylist.append(0)\n",
    "        else: \n",
    "            x_val = sigmoid_start + quarterly_x*(i - delay_qtrs)\n",
    "            mylist.append(max_amt * sigmoid(x_val))\n",
    "    return mylist\n",
    "\n",
    "# Let's try a test case with some benefits with a max of $5M that start in 3 quarters, fully realized in 6 quarters \n",
    "delay_qtrs = 3\n",
    "max_amt = 5\n",
    "scale_up_qtrs = 7\n",
    "test = sigmoid_qtr(delay, scale_up_qtrs, max_qtrs)\n",
    "\n"
   ]
  },
  {
   "cell_type": "code",
   "execution_count": 178,
   "metadata": {},
   "outputs": [
    {
     "data": {
      "image/png": "[encoded data removed]",
      "text/plain": [
       "<Figure size 432x288 with 1 Axes>"
      ]
     },
     "metadata": {
      "needs_background": "light"
     },
     "output_type": "display_data"
    }
   ],
   "source": [
    "# Red line is the number of delay quarters, when the function kicks in\n",
    "# Blue line is the end of scale up when you are getting close to max benefits\n",
    "def plotter(vals, delay_qtrs, scale_up_qtrs):\n",
    "    labels = np.arange(1, len(test)+1)\n",
    "    plt.bar(labels, vals)\n",
    "    plt.axvline(x=delay_qtrs, color = 'r')\n",
    "    plt.title('Scale up of Cash Flows')\n",
    "    plt.axvline(x=(delay_qtrs + scale_up_qtrs), color = 'b')\n",
    "    plt.show;\n",
    "    \n",
    "plotter(test, delay_qtrs, scale_up_qtrs)"
   ]
  },
  {
   "cell_type": "code",
   "execution_count": 188,
   "metadata": {},
   "outputs": [
    {
     "data": {
      "application/vnd.jupyter.widget-view+json": {
       "model_id": "f835243a6feb43068bad7d0eba3b934f",
       "version_major": 2,
       "version_minor": 0
      },
      "text/plain": [
       "interactive(children=(IntSlider(value=2, continuous_update=False, description='Qtr Delay', max=8), FloatSlider…"
      ]
     },
     "metadata": {},
     "output_type": "display_data"
    }
   ],
   "source": [
    "def f(x, y):\n",
    "    flow = sigmoid_qtr(x, scale_up_qtrs, y)\n",
    "    plotter(flow, x, scale_up_qtrs)\n",
    "\n",
    "# Need to get this working for negative numbers.  Cash flow profiles for costs / investments will be negative numbers.\n",
    "# Just need to review math of the above functions to make sure it works for negative numbers.\n",
    "# Turning off continuous update here... \n",
    "interact(f, x=widgets.IntSlider(min=0, max=8, step=1, value=2, description='Qtr Delay', continuous_update=False), y=widgets.FloatSlider(min=0, max=30, step=0.5, value=4, description='Max Val', continuous_update=False));"
   ]
  },
  {
   "cell_type": "code",
   "execution_count": 189,
   "metadata": {},
   "outputs": [],
   "source": [
    "## Start building out a dataframe for project financial parameters and 12 months of cash flows\n",
    "## Cash flows can be populated with the growth curves above\n",
    "\n",
    "row_titles = ['visibility', 'growth', 'gamechangers']\n",
    "column_titles = ['internal_fte', 'external_spend', 'max_benefit', 'profile', 'discount_rate']\n",
    "d = pd.DataFrame(0, index=row_titles, columns=column_titles)"
   ]
  },
  {
   "cell_type": "code",
   "execution_count": 190,
   "metadata": {},
   "outputs": [],
   "source": [
    "years_in_model = 3\n",
    "quarters = (list(range(years_in_model * 4)))\n",
    "quarters = [q + 1 for q in quarters]"
   ]
  },
  {
   "cell_type": "code",
   "execution_count": 191,
   "metadata": {},
   "outputs": [],
   "source": [
    "a = np.zeros((len(row_titles),len(quarters)))\n",
    "cost_benefit = pd.DataFrame(a, index = row_titles, columns=quarters)"
   ]
  },
  {
   "cell_type": "code",
   "execution_count": 193,
   "metadata": {},
   "outputs": [
    {
     "data": {
      "text/html": [
       "<div>\n",
       "<style scoped>\n",
       "    .dataframe tbody tr th:only-of-type {\n",
       "        vertical-align: middle;\n",
       "    }\n",
       "\n",
       "    .dataframe tbody tr th {\n",
       "        vertical-align: top;\n",
       "    }\n",
       "\n",
       "    .dataframe thead th {\n",
       "        text-align: right;\n",
       "    }\n",
       "</style>\n",
       "<table border=\"1\" class=\"dataframe\">\n",
       "  <thead>\n",
       "    <tr style=\"text-align: right;\">\n",
       "      <th></th>\n",
       "      <th>internal_fte</th>\n",
       "      <th>external_spend</th>\n",
       "      <th>max_benefit</th>\n",
       "      <th>profile</th>\n",
       "      <th>discount_rate</th>\n",
       "      <th>1</th>\n",
       "      <th>2</th>\n",
       "      <th>3</th>\n",
       "      <th>4</th>\n",
       "      <th>5</th>\n",
       "      <th>6</th>\n",
       "      <th>7</th>\n",
       "      <th>8</th>\n",
       "      <th>9</th>\n",
       "      <th>10</th>\n",
       "      <th>11</th>\n",
       "      <th>12</th>\n",
       "    </tr>\n",
       "  </thead>\n",
       "  <tbody>\n",
       "    <tr>\n",
       "      <th>visibility</th>\n",
       "      <td>0</td>\n",
       "      <td>0</td>\n",
       "      <td>0</td>\n",
       "      <td>0</td>\n",
       "      <td>0</td>\n",
       "      <td>0.0</td>\n",
       "      <td>0.0</td>\n",
       "      <td>0.0</td>\n",
       "      <td>0.0</td>\n",
       "      <td>0.0</td>\n",
       "      <td>0.0</td>\n",
       "      <td>0.0</td>\n",
       "      <td>0.0</td>\n",
       "      <td>0.0</td>\n",
       "      <td>0.0</td>\n",
       "      <td>0.0</td>\n",
       "      <td>0.0</td>\n",
       "    </tr>\n",
       "    <tr>\n",
       "      <th>growth</th>\n",
       "      <td>0</td>\n",
       "      <td>0</td>\n",
       "      <td>0</td>\n",
       "      <td>0</td>\n",
       "      <td>0</td>\n",
       "      <td>0.0</td>\n",
       "      <td>0.0</td>\n",
       "      <td>0.0</td>\n",
       "      <td>0.0</td>\n",
       "      <td>0.0</td>\n",
       "      <td>0.0</td>\n",
       "      <td>0.0</td>\n",
       "      <td>0.0</td>\n",
       "      <td>0.0</td>\n",
       "      <td>0.0</td>\n",
       "      <td>0.0</td>\n",
       "      <td>0.0</td>\n",
       "    </tr>\n",
       "    <tr>\n",
       "      <th>gamechangers</th>\n",
       "      <td>0</td>\n",
       "      <td>0</td>\n",
       "      <td>0</td>\n",
       "      <td>0</td>\n",
       "      <td>0</td>\n",
       "      <td>0.0</td>\n",
       "      <td>0.0</td>\n",
       "      <td>0.0</td>\n",
       "      <td>0.0</td>\n",
       "      <td>0.0</td>\n",
       "      <td>0.0</td>\n",
       "      <td>0.0</td>\n",
       "      <td>0.0</td>\n",
       "      <td>0.0</td>\n",
       "      <td>0.0</td>\n",
       "      <td>0.0</td>\n",
       "      <td>0.0</td>\n",
       "    </tr>\n",
       "  </tbody>\n",
       "</table>\n",
       "</div>"
      ],
      "text/plain": [
       "              internal_fte  external_spend  max_benefit  profile  \\\n",
       "visibility               0               0            0        0   \n",
       "growth                   0               0            0        0   \n",
       "gamechangers             0               0            0        0   \n",
       "\n",
       "              discount_rate    1    2    3    4    5    6    7    8    9   10  \\\n",
       "visibility                0  0.0  0.0  0.0  0.0  0.0  0.0  0.0  0.0  0.0  0.0   \n",
       "growth                    0  0.0  0.0  0.0  0.0  0.0  0.0  0.0  0.0  0.0  0.0   \n",
       "gamechangers              0  0.0  0.0  0.0  0.0  0.0  0.0  0.0  0.0  0.0  0.0   \n",
       "\n",
       "               11   12  \n",
       "visibility    0.0  0.0  \n",
       "growth        0.0  0.0  \n",
       "gamechangers  0.0  0.0  "
      ]
     },
     "execution_count": 193,
     "metadata": {},
     "output_type": "execute_result"
    }
   ],
   "source": [
    "# so once we estimate the benefits and the costs, we can populate the quarterly cash flows into a dataframe\n",
    "# The three major categories of projects are visibility (R2K, etc.), growth (batch perf., etc.), gamechangers (proteinview, etc.)\n",
    "comb = pd.concat([d, cost_benefit], axis=1, sort=False)\n",
    "comb\n",
    "\n",
    "# Once we phase in cash flows, we can discount them back with an Net Present Value (NPV) using the discount rate."
   ]
  },
  {
   "cell_type": "code",
   "execution_count": null,
   "metadata": {},
   "outputs": [],
   "source": []
  },
  {
   "cell_type": "code",
   "execution_count": 89,
   "metadata": {},
   "outputs": [
    {
     "name": "stdout",
     "output_type": "stream",
     "text": [
      "visibility      1.0\n",
      "growth          1.0\n",
      "gamechangers    1.0\n",
      "Name: 1, dtype: float64\n",
      "\n",
      "visibility      2.0\n",
      "growth          2.0\n",
      "gamechangers    2.0\n",
      "Name: 2, dtype: float64\n",
      "\n",
      "visibility      3.0\n",
      "growth          3.0\n",
      "gamechangers    3.0\n",
      "Name: 3, dtype: float64\n",
      "\n",
      "visibility      4.0\n",
      "growth          4.0\n",
      "gamechangers    4.0\n",
      "Name: 4, dtype: float64\n",
      "\n",
      "visibility      5.0\n",
      "growth          5.0\n",
      "gamechangers    5.0\n",
      "Name: 5, dtype: float64\n",
      "\n",
      "visibility      6.0\n",
      "growth          6.0\n",
      "gamechangers    6.0\n",
      "Name: 6, dtype: float64\n",
      "\n",
      "visibility      7.0\n",
      "growth          7.0\n",
      "gamechangers    7.0\n",
      "Name: 7, dtype: float64\n",
      "\n",
      "visibility      8.0\n",
      "growth          8.0\n",
      "gamechangers    8.0\n",
      "Name: 8, dtype: float64\n",
      "\n",
      "visibility      9.0\n",
      "growth          9.0\n",
      "gamechangers    9.0\n",
      "Name: 9, dtype: float64\n",
      "\n",
      "visibility      10.0\n",
      "growth          10.0\n",
      "gamechangers    10.0\n",
      "Name: 10, dtype: float64\n",
      "\n",
      "visibility      11.0\n",
      "growth          11.0\n",
      "gamechangers    11.0\n",
      "Name: 11, dtype: float64\n",
      "\n",
      "visibility      12.0\n",
      "growth          12.0\n",
      "gamechangers    12.0\n",
      "Name: 12, dtype: float64\n",
      "\n"
     ]
    }
   ],
   "source": [
    "### To iterate over the rows to replace the cash flows in the data frame for a given investment area.\n",
    "adder = 1\n",
    "for key, value in cost_benefit.iteritems(): \n",
    "    value = value + adder\n",
    "    adder += 1\n",
    "    print(value) \n",
    "    print() "
   ]
  }
 ],
 "metadata": {
  "kernelspec": {
   "display_name": "Python 3",
   "language": "python",
   "name": "python3"
  },
  "language_info": {
   "codemirror_mode": {
    "name": "ipython",
    "version": 3
   },
   "file_extension": ".py",
   "mimetype": "text/x-python",
   "name": "python",
   "nbconvert_exporter": "python",
   "pygments_lexer": "ipython3",
   "version": "3.7.3"
  }
 },
 "nbformat": 4,
 "nbformat_minor": 2
}

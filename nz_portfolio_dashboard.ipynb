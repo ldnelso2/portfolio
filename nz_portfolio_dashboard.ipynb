{
 "cells": [
  {
   "cell_type": "code",
   "execution_count": 292,
   "metadata": {},
   "outputs": [],
   "source": [
    "import pandas as pd\n",
    "import numpy as np\n",
    "import math\n",
    "import matplotlib.pyplot as plt\n",
    "import ipywidgets as widgets\n",
    "from ipywidgets import interact, interactive, fixed, interact_manual\n",
    "\n",
    "\n",
    "\n",
    "# Define a quartely time schema\n",
    "years_in_model = 3\n",
    "quarters = (list(range(years_in_model * 4)))\n",
    "quarters = [q + 1 for q in quarters]\n",
    "quarter_labels = ['Q' + str(q) for q in quarters]\n",
    "\n",
    "\n",
    "#### STEP 1:  Calculate simple non-discounted cost-benefit cash flows for a single quarter with a delay ramp, and max\n",
    "#### STEP 2:  Use those cash flows to find a discounted cash flow for each project using Net Present Value (NPV)\n",
    "#### STEP 3:  Assemble the net present value of estimated future cash flows across projects in the portfolio\n",
    "#### STEP 4:  Show a composite overall return, and let the user change paramaters, risk levels, timing, etc. to optimize and plan\n",
    "#### STEP 5:  Allow the user to download a .csv/.xlsx or .pptx to share with others.\n",
    "\n",
    "### STEP 1 START ###\n",
    "\n",
    "# For logistic growth we can define a sigmoid function\n",
    "# Sigmoid function, f(-6) = 0; f(0) = 0.5;  f(6) = 1.0;\n",
    "# Sigmoid / logistic growth would be a common cash flow profile\n",
    "# Future options to add would be 'step function,' 'linear growth,' 'exponential growth,' etc.\n",
    "def sigmoid(x):\n",
    "    return 1 / (1 + math.exp(-x))\n",
    "\n",
    "# Define a quarterly implementation of logistic growth / sigmoid based on delay in years, max $ amount, and the time to ramp up\n",
    "# All values in quarters except the 'max_amt' which is in dollars($M USD)\n",
    "# max_amt is the 'carrying capacity' of the sigmoid function, usually known as 'k' in academic formulas\n",
    "def sigmoid_qtr(delay_qtrs, max_amt, scale_up_qtrs, tot_qtrs=12):\n",
    "    mylist = []\n",
    "    if scale_up_qtrs < 2: \n",
    "        print('the total number of quarters must be at least one')\n",
    "    # -3 corresponds to 5% of max value, and 3 corresponds to 95% of max value, going to use those values to define function.\n",
    "    sigmoid_start = -3\n",
    "    sigmoid_last = 3\n",
    "    quarterly_x = (sigmoid_last - sigmoid_start) / scale_up_qtrs\n",
    "    # print(f'quarterly_x = {quarterly_x}')\n",
    "    for i in range(0, tot_qtrs):\n",
    "        if i < delay_qtrs:\n",
    "            mylist.append(0)\n",
    "        else: \n",
    "            x_val = sigmoid_start + quarterly_x*(i - delay_qtrs)\n",
    "            mylist.append(max_amt * sigmoid(x_val))\n",
    "    return mylist\n",
    "\n",
    "# Let's try a test case with some benefits with a max of $5M that start in 3 quarters, fully realized in 6 quarters \n",
    "delay_qtrs = 3\n",
    "max_amt = 5\n",
    "scale_up_qtrs = 7\n",
    "test = sigmoid_qtr(delay, scale_up_qtrs, max_qtrs)\n",
    "\n"
   ]
  },
  {
   "cell_type": "code",
   "execution_count": 293,
   "metadata": {},
   "outputs": [],
   "source": [
    "# Red line is the number of delay quarters, when the function kicks in\n",
    "# Blue line is the end of scale up when you are getting close to max benefits\n",
    "def plotter(ben_vals, delay_qtrs, scale_up_qtrs):\n",
    "    labels = np.arange(1, len(test)+1)\n",
    "    plt.bar(labels, ben_vals)\n",
    "    plt.axvline(x=delay_qtrs, color = 'r')\n",
    "    plt.title('Scale up of Cash Flows')\n",
    "    plt.axvline(x=(delay_qtrs + scale_up_qtrs), color = 'b')\n",
    "    plt.show;\n",
    "# plotter(test, delay_qtrs, scale_up_qtrs)\n",
    "\n",
    "# This should print both costs and benefits\n",
    "def dual_plotter(costs, bennies): \n",
    "\n",
    "    # set width of bar\n",
    "    barWidth = 0.25\n",
    "\n",
    "    # calculate the net benefit for the quarter\n",
    "    net = [x1 - x2 for (x1, x2) in zip(bennies, costs)]\n",
    "    \n",
    "    # set height of bar\n",
    "    bars1 = costs\n",
    "    bars2 = bennies\n",
    "    bars3 = net\n",
    "\n",
    "    # Set position of bar on X axis\n",
    "    r1 = np.arange(len(bars1))\n",
    "    r2 = [x + barWidth for x in r1]\n",
    "    r3 = [x + barWidth for x in r2]\n",
    "\n",
    "    # Make the plot\n",
    "    plt.bar(r1, bars1, color='r', width=barWidth, edgecolor='white', label='var1')\n",
    "    plt.bar(r2, bars2, color='b', width=barWidth, edgecolor='white', label='var2')\n",
    "    plt.bar(r3, bars3, color='#2d7f5e', width=barWidth, edgecolor='white', label='var3')\n",
    "\n",
    "    # Add xticks on the middle of the group bars\n",
    "    plt.xlabel('group', fontweight='bold')\n",
    "    plt.xticks([r + barWidth for r in range(len(bars1))], quarter_labels)\n",
    "\n",
    "    # Create legend & Show graphic\n",
    "    plt.legend()\n",
    "    plt.show();\n"
   ]
  },
  {
   "cell_type": "code",
   "execution_count": 294,
   "metadata": {},
   "outputs": [
    {
     "data": {
      "application/vnd.jupyter.widget-view+json": {
       "model_id": "c5eeb178b2b74fc3abb52f0005059ffa",
       "version_major": 2,
       "version_minor": 0
      },
      "text/plain": [
       "interactive(children=(IntSlider(value=2, continuous_update=False, description='Ben. Delay', max=8), FloatSlide…"
      ]
     },
     "metadata": {},
     "output_type": "display_data"
    }
   ],
   "source": [
    "def f(x, y, z, a, b, c):\n",
    "    benefits = sigmoid_qtr(x, y, z)\n",
    "    costs = sigmoid_qtr(a, b, c)\n",
    "    \n",
    "    # To plot a single cash flow:\n",
    "    # plotter(benefits, x, y, costs)\n",
    "    \n",
    "    # To plot both costs and benefits together:\n",
    "    dual_plotter(benefits, costs)\n",
    "\n",
    "\n",
    "# Need to get this working for negative numbers.  Cash flow profiles for costs / investments will be negative numbers.\n",
    "# But maybe we can just calculate as positive, and then take the diff for net cash flow and put into a dataframe\n",
    "# Just need to review math of the above functions to make sure it works for negative numbers.\n",
    "# Turning off continuous update here :) \n",
    "benefits_delay = widgets.IntSlider(min=0, max=8, step=1, value=2, description='Ben. Delay', continuous_update=False)\n",
    "benefits_ramp = widgets.FloatSlider(min=2, max=12, step=0.5, value=4, description='Ben. Ramp', continuous_update=False)\n",
    "benefits_max = widgets.FloatSlider(min=0, max=30, step=0.5, value=4, description='Ben. Max', continuous_update=False)\n",
    "\n",
    "# We should probably include a component eventually where costs are a function of benefits, but for now, let's model them independently.\n",
    "cost_delay = widgets.FloatSlider(min=0, max=12, step=0.5, value=4, description='Cost Delay', continuous_update=False)\n",
    "cost_ramp = widgets.FloatSlider(min=0, max=12, step=0.5, value=4, description='Cost Ramp', continuous_update=False)\n",
    "cost_max = widgets.FloatSlider(min=0, max=30, step=0.5, value=4, description='Cost Max', continuous_update=False)\n",
    "\n",
    "interact(f, x=benefits_delay, y=benefits_ramp, z=benefits_max, a=cost_delay, b=cost_ramp, c=cost_max);\n",
    "\n",
    "\n",
    "##### There is something weird in how the sigmoid_qtr function is returning values.  \n",
    "##### Example, if you set the 'cost max' or 'benefit max' really high, it seems to change the ramp-up time, \n",
    "##### and the max value in the slider doesn't match the max value in the plot."
   ]
  },
  {
   "cell_type": "code",
   "execution_count": 285,
   "metadata": {},
   "outputs": [
    {
     "name": "stdout",
     "output_type": "stream",
     "text": [
      "Net Present Value(npv) :  212.7356691470436\n"
     ]
    }
   ],
   "source": [
    "#### STEP 1 END \n",
    "#### STEP 2 START\n",
    "\n",
    "## Discounted Cash Flows can use this formula, once we find the : \n",
    "example_net_cashflow = [-100, 19, 49, 58, 200]\n",
    "\n",
    "# Using a shortcut here dividing by four to calculate quarterly interest from annual discount rate of 25%\n",
    "# There is a better way to do the conversion, but example below:\n",
    "npv_net =  np.npv(0.35/4,[-100, 19, 49, 58, 200, 100]) \n",
    "print(\"Net Present Value(npv) : \", npv_net) \n",
    "\n",
    "# we could also calculate an IRR using the IRR module from python, but NPV is fine for now.\n",
    "\n",
    "#### STEP 2 END\n",
    "#### STEP 3 START"
   ]
  },
  {
   "cell_type": "code",
   "execution_count": 286,
   "metadata": {},
   "outputs": [],
   "source": [
    "## Start building out a dataframe for project financial parameters and 12 months of cash flows\n",
    "## Cash flows can be populated with the growth curves above\n",
    "\n",
    "row_titles = ['visibility', 'growth', 'gamechangers']\n",
    "column_titles = ['internal_fte', 'external_spend', 'max_benefit', 'profile', 'discount_rate']\n",
    "d = pd.DataFrame(0, index=row_titles, columns=column_titles)"
   ]
  },
  {
   "cell_type": "code",
   "execution_count": 287,
   "metadata": {},
   "outputs": [
    {
     "data": {
      "text/plain": [
       "['Q1', 'Q2', 'Q3', 'Q4', 'Q5', 'Q6', 'Q7', 'Q8', 'Q9', 'Q10', 'Q11', 'Q12']"
      ]
     },
     "execution_count": 287,
     "metadata": {},
     "output_type": "execute_result"
    }
   ],
   "source": [
    "quarter_labels"
   ]
  },
  {
   "cell_type": "code",
   "execution_count": 288,
   "metadata": {},
   "outputs": [],
   "source": [
    "years_in_model = 3\n",
    "quarters = (list(range(years_in_model * 4)))\n",
    "quarters = [q + 1 for q in quarters]"
   ]
  },
  {
   "cell_type": "code",
   "execution_count": 289,
   "metadata": {},
   "outputs": [],
   "source": [
    "a = np.zeros((len(row_titles),len(quarters)))\n",
    "cost_benefit = pd.DataFrame(a, index = row_titles, columns=quarters)"
   ]
  },
  {
   "cell_type": "code",
   "execution_count": 290,
   "metadata": {},
   "outputs": [
    {
     "data": {
      "text/html": [
       "<div>\n",
       "<style scoped>\n",
       "    .dataframe tbody tr th:only-of-type {\n",
       "        vertical-align: middle;\n",
       "    }\n",
       "\n",
       "    .dataframe tbody tr th {\n",
       "        vertical-align: top;\n",
       "    }\n",
       "\n",
       "    .dataframe thead th {\n",
       "        text-align: right;\n",
       "    }\n",
       "</style>\n",
       "<table border=\"1\" class=\"dataframe\">\n",
       "  <thead>\n",
       "    <tr style=\"text-align: right;\">\n",
       "      <th></th>\n",
       "      <th>internal_fte</th>\n",
       "      <th>external_spend</th>\n",
       "      <th>max_benefit</th>\n",
       "      <th>profile</th>\n",
       "      <th>discount_rate</th>\n",
       "      <th>1</th>\n",
       "      <th>2</th>\n",
       "      <th>3</th>\n",
       "      <th>4</th>\n",
       "      <th>5</th>\n",
       "      <th>6</th>\n",
       "      <th>7</th>\n",
       "      <th>8</th>\n",
       "      <th>9</th>\n",
       "      <th>10</th>\n",
       "      <th>11</th>\n",
       "      <th>12</th>\n",
       "    </tr>\n",
       "  </thead>\n",
       "  <tbody>\n",
       "    <tr>\n",
       "      <th>visibility</th>\n",
       "      <td>0</td>\n",
       "      <td>0</td>\n",
       "      <td>0</td>\n",
       "      <td>0</td>\n",
       "      <td>0</td>\n",
       "      <td>0.0</td>\n",
       "      <td>0.0</td>\n",
       "      <td>0.0</td>\n",
       "      <td>0.0</td>\n",
       "      <td>0.0</td>\n",
       "      <td>0.0</td>\n",
       "      <td>0.0</td>\n",
       "      <td>0.0</td>\n",
       "      <td>0.0</td>\n",
       "      <td>0.0</td>\n",
       "      <td>0.0</td>\n",
       "      <td>0.0</td>\n",
       "    </tr>\n",
       "    <tr>\n",
       "      <th>growth</th>\n",
       "      <td>0</td>\n",
       "      <td>0</td>\n",
       "      <td>0</td>\n",
       "      <td>0</td>\n",
       "      <td>0</td>\n",
       "      <td>0.0</td>\n",
       "      <td>0.0</td>\n",
       "      <td>0.0</td>\n",
       "      <td>0.0</td>\n",
       "      <td>0.0</td>\n",
       "      <td>0.0</td>\n",
       "      <td>0.0</td>\n",
       "      <td>0.0</td>\n",
       "      <td>0.0</td>\n",
       "      <td>0.0</td>\n",
       "      <td>0.0</td>\n",
       "      <td>0.0</td>\n",
       "    </tr>\n",
       "    <tr>\n",
       "      <th>gamechangers</th>\n",
       "      <td>0</td>\n",
       "      <td>0</td>\n",
       "      <td>0</td>\n",
       "      <td>0</td>\n",
       "      <td>0</td>\n",
       "      <td>0.0</td>\n",
       "      <td>0.0</td>\n",
       "      <td>0.0</td>\n",
       "      <td>0.0</td>\n",
       "      <td>0.0</td>\n",
       "      <td>0.0</td>\n",
       "      <td>0.0</td>\n",
       "      <td>0.0</td>\n",
       "      <td>0.0</td>\n",
       "      <td>0.0</td>\n",
       "      <td>0.0</td>\n",
       "      <td>0.0</td>\n",
       "    </tr>\n",
       "  </tbody>\n",
       "</table>\n",
       "</div>"
      ],
      "text/plain": [
       "              internal_fte  external_spend  max_benefit  profile  \\\n",
       "visibility               0               0            0        0   \n",
       "growth                   0               0            0        0   \n",
       "gamechangers             0               0            0        0   \n",
       "\n",
       "              discount_rate    1    2    3    4    5    6    7    8    9   10  \\\n",
       "visibility                0  0.0  0.0  0.0  0.0  0.0  0.0  0.0  0.0  0.0  0.0   \n",
       "growth                    0  0.0  0.0  0.0  0.0  0.0  0.0  0.0  0.0  0.0  0.0   \n",
       "gamechangers              0  0.0  0.0  0.0  0.0  0.0  0.0  0.0  0.0  0.0  0.0   \n",
       "\n",
       "               11   12  \n",
       "visibility    0.0  0.0  \n",
       "growth        0.0  0.0  \n",
       "gamechangers  0.0  0.0  "
      ]
     },
     "execution_count": 290,
     "metadata": {},
     "output_type": "execute_result"
    }
   ],
   "source": [
    "# so once we estimate the benefits and the costs, we can populate the quarterly cash flows into a dataframe\n",
    "# The three major categories of projects are visibility (R2K, etc.), growth (batch perf., etc.), gamechangers (proteinview, etc.)\n",
    "comb = pd.concat([d, cost_benefit], axis=1, sort=False)\n",
    "comb\n",
    "\n",
    "# Once we phase in cash flows, we can discount them back with an Net Present Value (NPV) using the discount rate."
   ]
  },
  {
   "cell_type": "code",
   "execution_count": null,
   "metadata": {},
   "outputs": [],
   "source": []
  },
  {
   "cell_type": "code",
   "execution_count": 291,
   "metadata": {},
   "outputs": [
    {
     "data": {
      "text/plain": [
       "'\\nadder = 1\\nfor key, value in cost_benefit.iteritems(): \\n    value = value + adder\\n    adder += 1\\n    print(value) \\n    print() \\n'"
      ]
     },
     "execution_count": 291,
     "metadata": {},
     "output_type": "execute_result"
    }
   ],
   "source": [
    "### HMM... how to iterate over the rows to replace the cash flows in the data frame for a given investment area.\n",
    "'''\n",
    "adder = 1\n",
    "for key, value in cost_benefit.iteritems(): \n",
    "    value = value + adder\n",
    "    adder += 1\n",
    "    print(value) \n",
    "    print() \n",
    "'''"
   ]
  },
  {
   "cell_type": "code",
   "execution_count": null,
   "metadata": {},
   "outputs": [],
   "source": []
  },
  {
   "cell_type": "code",
   "execution_count": null,
   "metadata": {},
   "outputs": [],
   "source": []
  }
 ],
 "metadata": {
  "kernelspec": {
   "display_name": "Python 3",
   "language": "python",
   "name": "python3"
  },
  "language_info": {
   "codemirror_mode": {
    "name": "ipython",
    "version": 3
   },
   "file_extension": ".py",
   "mimetype": "text/x-python",
   "name": "python",
   "nbconvert_exporter": "python",
   "pygments_lexer": "ipython3",
   "version": "3.7.3"
  }
 },
 "nbformat": 4,
 "nbformat_minor": 2
}

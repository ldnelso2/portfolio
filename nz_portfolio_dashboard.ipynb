{
 "cells": [
  {
   "cell_type": "code",
   "execution_count": 147,
   "metadata": {
    "scrolled": true
   },
   "outputs": [],
   "source": [
    "import json\n",
    "import uuid\n",
    "from functools import reduce, wraps\n",
    "\n",
    "import pandas as pd\n",
    "import numpy as np\n",
    "import math\n",
    "import matplotlib.pyplot as plt\n",
    "import ipywidgets as widgets\n",
    "from ipywidgets import interact, interactive, fixed, interact_manual\n",
    "from IPython.display import display, HTML\n",
    "\n",
    "from jinja2 import Template\n",
    "\n",
    "# Smartsheet\n",
    "import sys\n",
    "from collections import defaultdict, namedtuple\n",
    "import smartsheet\n",
    "\n",
    "# Define a quartely time schema\n",
    "years_in_model = 3\n",
    "quarters = range(1, years_in_model * 4 + 1)\n",
    "quarter_labels = ['Q' + str(q) for q in quarters]\n",
    "#### STEP 1:  Calculate simple non-discounted cost-benefit cash flows for a single quarter with a delay ramp, and max\n",
    "#### STEP 2:  Use those cash flows to find a discounted cash flow for each project using Net Present Value (NPV)\n",
    "#### STEP 3:  Assemble the net present value of estimated future cash flows across projects in the portfolio\n",
    "#### STEP 4:  Show a composite overall return, and let the user change paramaters, risk levels, timing, etc. to optimize and plan"
   ]
  },
  {
   "cell_type": "markdown",
   "metadata": {},
   "source": [
    "# Discounted Cash Flow Analysis"
   ]
  },
  {
   "cell_type": "markdown",
   "metadata": {},
   "source": [
    "### Unweighted Cash Flow"
   ]
  },
  {
   "cell_type": "code",
   "execution_count": 131,
   "metadata": {},
   "outputs": [
    {
     "name": "stdout",
     "output_type": "stream",
     "text": [
      "\n",
      "SIGMOID\n",
      "0.00\t0.00\t0.00\t0.25\t0.54\t1.10\t1.98\t3.02\t3.90\t4.46\t4.75\t4.89\n",
      "\n",
      "LINEAR\n",
      "0.00\t0.00\t0.00\t0.00\t0.71\t1.43\t2.14\t2.86\t3.57\t4.29\t5.00\t5.00\n",
      "\n",
      "SINGLE\n",
      "0.00\t0.00\t0.00\t5.00\t0.00\t0.00\t0.00\t0.00\t0.00\t0.00\t0.00\t0.00\n",
      "\n",
      "STEP\n",
      "0.00\t0.00\t0.00\t5.00\t5.00\t5.00\t5.00\t5.00\t5.00\t5.00\t5.00\t5.00\n"
     ]
    },
    {
     "data": {
      "image/png": "[encoded data removed]",
      "text/plain": [
       "<Figure size 432x288 with 1 Axes>"
      ]
     },
     "metadata": {
      "needs_background": "light"
     },
     "output_type": "display_data"
    }
   ],
   "source": [
    "class CashFlow():\n",
    "    def __init__(self, delay_qtrs, discount_rate, is_cost, max_amt, scale_up_qtrs,\n",
    "                 function, name='', discounted=True, flow_id=uuid.uuid4(), tot_qtrs=12):\n",
    "        if scale_up_qtrs < 2: \n",
    "            raise Exception('the total number of quarters must be at least one')\n",
    "\n",
    "        self.delay_qtrs = delay_qtrs\n",
    "        self.discounted = discounted\n",
    "        self.discount_rate = discount_rate / 4 # annual discount rate -> quarterly\n",
    "        self.function = function # Will interpret an instance according to this setting\n",
    "        self.id = flow_id\n",
    "        self.is_cost = is_cost\n",
    "        self.max_amt = max_amt\n",
    "        self.name = name\n",
    "        self.scale_up_qtrs = scale_up_qtrs\n",
    "        self.tot_qtrs = tot_qtrs  # TODO: rename to \"period\"\n",
    "        \n",
    "    def _sigmoid(self, x):\n",
    "        \"\"\"\n",
    "        We define y at 95% max at end of delay and scale up period \n",
    "        y = .95L = L / (1 + e^-k(x_end - x_naught)) # https://en.wikipedia.org/wiki/Logistic_function\n",
    "        For us, this means the scaling factor (k) is\n",
    "        k = ln(1/.95 - 1)/((delay_qtrs + scale_up_qtrs/2) - (delay_qtrs + scale_up_qtrs))\n",
    "        \"\"\"\n",
    "        # 1 / 2 scale_up_qtrs to place x_naught at vertical of sigmoid from after delay\n",
    "        x_naught = self.delay_qtrs + self.scale_up_qtrs / 2\n",
    "        x_end = self.delay_qtrs + self.scale_up_qtrs\n",
    "        k = math.log(1/.95 - 1) / (x_naught - x_end)\n",
    "        return self.max_amt / (1 + math.exp(-k * (x - x_naught)))\n",
    "    \n",
    "    def _linear(self, x):\n",
    "        \"\"\"y = mx + b. Units in amount (returned value) per quarter (x)\"\"\"\n",
    "        m = self.max_amt / self.scale_up_qtrs\n",
    "        b = -m * self.delay_qtrs\n",
    "        return min(m * x + b, self.max_amt) # Never return more than max\n",
    "    \n",
    "    def _single(self, x):\n",
    "        if x == self.delay_qtrs:\n",
    "            return self.max_amt\n",
    "        else:\n",
    "            return 0\n",
    "    \n",
    "    def _step(self, x):\n",
    "        return self.max_amt\n",
    " \n",
    "    def _discounted_cash_flow(self, f):\n",
    "        @wraps(f)\n",
    "        def discounted_wrapper(quarter_n):\n",
    "            return f(quarter_n) / (1 + self.discount_rate) ** quarter_n\n",
    "\n",
    "        return discounted_wrapper\n",
    "    \n",
    "    def _calculate_qtr(self, f):\n",
    "        values = []\n",
    "        discounted_f = self._discounted_cash_flow(f) if self.discounted else f\n",
    "        for quarter_n in range(0, self.tot_qtrs):\n",
    "            if quarter_n < self.delay_qtrs:\n",
    "                values.append(0)\n",
    "            else:\n",
    "                multiplier = -1 if self.is_cost else 1\n",
    "                # TODO: multiply by -1 here if it is a COST we are considering\n",
    "                values.append(multiplier * discounted_f(quarter_n))\n",
    "        return values\n",
    "\n",
    "    def quick_view(self):\n",
    "        fig = plt.figure()\n",
    "        ax = fig.add_subplot(1, 1, 1)\n",
    "        ax.plot(range(self.tot_qtrs), self.sigmoid_qtr, label='sigmoid')\n",
    "        ax.plot(range(self.tot_qtrs), self.linear_qtr, label='linear')\n",
    "        ax.plot(range(self.tot_qtrs), self.step_qtr, label='step')\n",
    "        ax.scatter(range(self.tot_qtrs), self.single_qtr, label='single')\n",
    "        ax.legend(loc='upper left')\n",
    "        ax.grid(True)\n",
    "    \n",
    "    @property\n",
    "    def qtr(self):\n",
    "        \"\"\"calculates quarter for instance based on set function type\"\"\"\n",
    "        return self._calculate_qtr(getattr(self, f'_{self.function.lower()}'))\n",
    "    \n",
    "    @property\n",
    "    def sigmoid_qtr(self):\n",
    "        return self._calculate_qtr(self._sigmoid)\n",
    "    \n",
    "    @property\n",
    "    def linear_qtr(self):\n",
    "        return self._calculate_qtr(self._linear)\n",
    "    \n",
    "    @property\n",
    "    def step_qtr(self):\n",
    "        return self._calculate_qtr(self._step)\n",
    "    \n",
    "    @property\n",
    "    def single_qtr(self):\n",
    "        return self._calculate_qtr(self._single)\n",
    "    \n",
    "    def to_json(self):\n",
    "        return {\n",
    "            \"delay_qtrs\": self.delay_qtrs,\n",
    "            \"discount_rate\": self.discount_rate,\n",
    "            \"flow_id\": str(self.id),\n",
    "            \"function\": self.function,\n",
    "            \"is_cost\": self.is_cost,\n",
    "            \"name\": self.name,\n",
    "            \"max_amt\": self.max_amt,\n",
    "            \"scale_up_qtrs\": self.scale_up_qtrs,\n",
    "            \"tot_qtrs\": self.tot_qtrs,\n",
    "        }\n",
    "    \n",
    "def pp(name, lst):\n",
    "    print(f\"\\n{name}\")\n",
    "    print('\\t'.join([\"{0:.2f}\".format(i) for i in lst]))\n",
    "\n",
    "cf = CashFlow(name='test', discount_rate=.1, discounted=False, delay_qtrs = 3, max_amt = 5, scale_up_qtrs = 7, function='linear', is_cost=False)\n",
    "\n",
    "pp('SIGMOID', cf.sigmoid_qtr)\n",
    "pp('LINEAR', cf.linear_qtr)\n",
    "pp('SINGLE', cf.single_qtr)\n",
    "pp('STEP', cf.step_qtr)\n",
    "\n",
    "cf.quick_view()"
   ]
  },
  {
   "cell_type": "markdown",
   "metadata": {},
   "source": [
    "### Discounted Cash Flow"
   ]
  },
  {
   "cell_type": "code",
   "execution_count": 132,
   "metadata": {},
   "outputs": [
    {
     "name": "stdout",
     "output_type": "stream",
     "text": [
      "\n",
      "SIGMOID\n",
      "0.00\t0.00\t0.00\t0.23\t0.49\t0.98\t1.71\t2.54\t3.20\t3.57\t3.71\t3.73\n",
      "\n",
      "LINEAR\n",
      "0.00\t0.00\t0.00\t0.00\t0.65\t1.26\t1.85\t2.40\t2.93\t3.43\t3.91\t3.81\n",
      "\n",
      "SINGLE\n",
      "0.00\t0.00\t0.00\t4.64\t0.00\t0.00\t0.00\t0.00\t0.00\t0.00\t0.00\t0.00\n",
      "\n",
      "STEP\n",
      "0.00\t0.00\t0.00\t4.64\t4.53\t4.42\t4.31\t4.21\t4.10\t4.00\t3.91\t3.81\n"
     ]
    },
    {
     "data": {
      "image/png": "[encoded data removed]",
      "text/plain": [
       "<Figure size 432x288 with 1 Axes>"
      ]
     },
     "metadata": {
      "needs_background": "light"
     },
     "output_type": "display_data"
    }
   ],
   "source": [
    "\n",
    "cf = CashFlow(name='test', discount_rate=.1, discounted=True, delay_qtrs = 3, max_amt = 5, scale_up_qtrs = 7, function='linear', is_cost=False)\n",
    "pp('SIGMOID', cf.sigmoid_qtr)\n",
    "pp('LINEAR', cf.linear_qtr)\n",
    "pp('SINGLE', cf.single_qtr)\n",
    "pp('STEP', cf.step_qtr)\n",
    "\n",
    "cf.quick_view()"
   ]
  },
  {
   "cell_type": "code",
   "execution_count": null,
   "metadata": {},
   "outputs": [],
   "source": []
  },
  {
   "cell_type": "code",
   "execution_count": 133,
   "metadata": {},
   "outputs": [],
   "source": [
    "class Styles():\n",
    "    CONTAINER = \"padding: 0; display: flex;\"\n",
    "    PARAM = \"flex: 1; list-style-type: none; text-align: center;\"\n",
    "    VALUE = \"display: block; text-align: center;\"\n",
    "    \n",
    "class Project():\n",
    "    \"\"\"Add cash flows to a project\"\"\"\n",
    "    def __init__(self, name, cash_flows=None):\n",
    "        self.cash_flows = []\n",
    "        self.name = name  # define before attempting to load from disk\n",
    "        \n",
    "        # If we pass in cash_flows as an argument, don't allow widgets to delete values (yet)\n",
    "        self.read_only = cash_flows is not None\n",
    "        if not self.read_only:\n",
    "            self._load_from_disk()  # important to load before generating cash_flow_list\n",
    "        else:\n",
    "            self.cash_flows = cash_flows\n",
    "            \n",
    "        self.cash_flow_list = widgets.VBox(children=[self.widgetize_cf(cf) for cf in self.cash_flows])\n",
    "\n",
    "        self.is_cost = widgets.Checkbox(value=False, description='Check if cash flow is a cost')\n",
    "        self.cf_name = widgets.Text(placeholder='Name or description', description='Name')\n",
    "        self.func_type = widgets.ToggleButtons(options=['linear', 'sigmoid', 'single', 'step'], description='Form')\n",
    "        self.ben_delay = widgets.IntSlider(min=0, max=8, step=1, value=2, description='Ben. Delay', continuous_update=False)\n",
    "        self.ben_ramp = widgets.FloatSlider(min=2, max=12, step=0.5, value=4, description='Ben. Ramp', continuous_update=False)\n",
    "        self.ben_max = widgets.FloatSlider(min=0, max=30, step=0.5, value=4, description='Ben. Max', continuous_update=False)\n",
    "        \n",
    "        create_btn = widgets.Button(description=\"Add Cash Flow\", disabled=self.read_only)\n",
    "        create_btn.on_click(self.on_create_click)\n",
    "\n",
    "        self.graph_out = widgets.Output()\n",
    "        self.update_graphs()\n",
    "        menu = widgets.VBox(\n",
    "            children=[self.cf_name, self.is_cost, self.func_type, self.ben_delay, self.ben_ramp,\n",
    "                      self.ben_max, create_btn, self.graph_out],\n",
    "            layout=widgets.Layout(overflow=\"hidden\")\n",
    "        )\n",
    "        \n",
    "        self.app = widgets.AppLayout(left_sidebar=menu, right_sidebar=self.cash_flow_list)\n",
    "        display(self.app)\n",
    "\n",
    "    def _on_delete_click_factory(self, model):\n",
    "        \"\"\"A partially applied function that accepts a model,\n",
    "        and returns a new function a button can click with context\n",
    "        to a specific model\"\"\"\n",
    "\n",
    "        def on_delete_click(button):\n",
    "            index = None\n",
    "            for i, cash_flow in enumerate(self.cash_flows):\n",
    "                if cash_flow.id == model.id:\n",
    "                    index = i\n",
    "                    break\n",
    "\n",
    "            if index is not None:\n",
    "                self.cash_flows.pop(index)\n",
    "                self.update_cash_flows()\n",
    "                self.graph_out.clear_output(wait=True)\n",
    "                self.update_graphs()\n",
    "\n",
    "        return on_delete_click\n",
    "    \n",
    "    def _save_to_disk(self):\n",
    "        with open(self.filename, 'w') as outfile:\n",
    "            json.dump([cf.to_json() for cf in self.cash_flows], outfile)\n",
    "    \n",
    "    def _load_from_disk(self):\n",
    "        try:\n",
    "            with open(self.filename) as json_file:\n",
    "                data = json.load(json_file)\n",
    "                if not isinstance(data, list):\n",
    "                    raise Exception(f'delete the file: {self.filename}, data is bad. It will regenerate.')\n",
    "                for d in data:\n",
    "                    cf = CashFlow(**d)\n",
    "                    self.cash_flows.append(cf)\n",
    "        except FileNotFoundError:\n",
    "            print('could not find file, creating new')\n",
    "    \n",
    "    @property\n",
    "    def filename(self):\n",
    "        slug = self.name.lower().replace(' ', '-')\n",
    "        return f'./data/{slug}-data.json'\n",
    "        \n",
    "    def update_cash_flows(self):\n",
    "        self.cash_flow_list.children = [self.widgetize_cf(cf) for cf in self.cash_flows]\n",
    "        self._save_to_disk()\n",
    "\n",
    "    def on_create_click(self, event):\n",
    "        f = CashFlow(\n",
    "            delay_qtrs = self.ben_delay.value, \n",
    "            max_amt = self.ben_max.value,\n",
    "            scale_up_qtrs = self.ben_ramp.value,\n",
    "            function = self.func_type.value,\n",
    "            name = self.cf_name.value,\n",
    "            is_cost = self.is_cost.value\n",
    "        )\n",
    "        self.cash_flows.append(f)\n",
    "        self.update_cash_flows()\n",
    "        self.update_graphs()\n",
    "\n",
    "    def widgetize_cf(self, model):\n",
    "        html = f\"\"\"\n",
    "        <h4 style=\"text-align: center\">{model.name}</h1>\n",
    "        <ul style=\"{Styles.CONTAINER}\">\n",
    "            <li style=\"{Styles.PARAM}\">Function <strong style=\"{Styles.VALUE}\">{model.function}</strong></li>\n",
    "            <li style=\"{Styles.PARAM}\">Is Cost <strong style=\"{Styles.VALUE}\">{model.is_cost}</strong></li>\n",
    "            <li style=\"{Styles.PARAM}\">delay quarters <strong style=\"{Styles.VALUE}\">{model.delay_qtrs}</strong></li>\n",
    "            <li style=\"{Styles.PARAM}\">delay quarters <strong style=\"{Styles.VALUE}\">{model.discount_rate}</strong></li>\n",
    "            <li style=\"{Styles.PARAM}\">max amount <strong style=\"{Styles.VALUE}\">{model.max_amt}</strong></li>\n",
    "            <li style=\"{Styles.PARAM}\">scale time <strong style=\"{Styles.VALUE}\">{model.scale_up_qtrs}</strong></li>\n",
    "        </ul>\n",
    "        \"\"\"\n",
    "        html = widgets.HTML(\n",
    "            value=html,\n",
    "            layout=widgets.Layout(width='100%')\n",
    "        )\n",
    "        delete_button = widgets.Button(\n",
    "            description='delete',\n",
    "            button_style='danger',\n",
    "            layout=widgets.Layout(margin='5px'),\n",
    "            disabled=self.read_only,\n",
    "        )\n",
    "        delete_button.on_click(self._on_delete_click_factory(model))\n",
    "        return widgets.VBox(\n",
    "            children=[html, delete_button],\n",
    "            layout=widgets.Layout(\n",
    "                border='1px solid',\n",
    "                margin='4px',\n",
    "                justify_content='center',\n",
    "                align_items='center',\n",
    "                display='flex'\n",
    "            )\n",
    "        )\n",
    "    \n",
    "    def update_graphs(self):\n",
    "        self.graph_out.clear_output(wait=True)\n",
    "        if len(self.cash_flows) == 0:\n",
    "            return\n",
    "\n",
    "        def trim_axs(axs, N):\n",
    "            axs = axs.flat\n",
    "            for ax in axs[N:]:\n",
    "                ax.remove()\n",
    "            return axs[:N]\n",
    "\n",
    "        def get_min_max(flows):\n",
    "            values = reduce(list.__add__, [flow.qtr for flow in flows])\n",
    "            minimum = min(0, min(values))\n",
    "            maximum = max(values)\n",
    "            return minimum + minimum * 0.2, maximum + maximum * 0.2  # + 20% for readability\n",
    "        \n",
    "        # capture stdout of matplotlib to output catching context graph_out as widget to include\n",
    "        with self.graph_out:\n",
    "            cols = 3\n",
    "            rows = len(self.cash_flows) // cols + 1\n",
    "            figsize = (10, 8)\n",
    "            fig, axs = plt.subplots(rows, cols, figsize=figsize, constrained_layout=True)\n",
    "            axs = trim_axs(axs, len(self.cash_flows))\n",
    "            ymin, ymax = get_min_max(self.cash_flows)\n",
    "            for ax, cf in zip(axs, self.cash_flows):\n",
    "                ax.set_title(cf.name)\n",
    "                ax.set_ylim([ymin,ymax])\n",
    "                ax.grid(True)\n",
    "                ax.xaxis.set_ticks(range(1, 13))\n",
    "                ax.plot(range(12), cf.qtr)\n",
    "\n",
    "            plt.show(fig)\n"
   ]
  },
  {
   "cell_type": "code",
   "execution_count": 134,
   "metadata": {},
   "outputs": [],
   "source": [
    "# Batch Performance"
   ]
  },
  {
   "cell_type": "code",
   "execution_count": 135,
   "metadata": {},
   "outputs": [],
   "source": [
    "# batch_performance = Project('batch_performance')"
   ]
  },
  {
   "cell_type": "code",
   "execution_count": 136,
   "metadata": {},
   "outputs": [],
   "source": [
    "# R2K"
   ]
  },
  {
   "cell_type": "code",
   "execution_count": 137,
   "metadata": {},
   "outputs": [],
   "source": [
    "# r2k = Project('r2k')"
   ]
  },
  {
   "cell_type": "markdown",
   "metadata": {},
   "source": [
    "### Project Data"
   ]
  },
  {
   "cell_type": "code",
   "execution_count": 138,
   "metadata": {},
   "outputs": [],
   "source": [
    "access_token = 'u1zwu2cf2708fdfuy6y46ttwx3'\n",
    "sheet_id = 3317327430215556\n",
    "smartsheet\n",
    "ss = smartsheet.Smartsheet(access_token)\n",
    "sheet = ss.Sheets.get_sheet(sheet_id)"
   ]
  },
  {
   "cell_type": "code",
   "execution_count": 139,
   "metadata": {},
   "outputs": [],
   "source": [
    "# Simple named tuple to organize the index of a cell, and if it is required or not\n",
    "#\n",
    "# Parsing immediately, and with intent of what must be there prevents\n",
    "# a slew of boundary type errors or runtime ones.\n",
    "Cell = namedtuple('Cell', ['index', 'name', 'required'])\n",
    "\n",
    "\n",
    "class SmartsheetRow():\n",
    "    \"\"\"Reusable Smartsheet class for parsing a row. To use, define a child class which contains\n",
    "    class attributes with a namedtuple defining each cell that should be parsed. This child class will\n",
    "    inherit from this one, and automatically load and process all defined attributes.\n",
    "    It is also possible to define methods to override the value when necessary. For example, divide an\n",
    "    annual value by four\"\"\"\n",
    "    def __init__(self, row):\n",
    "        self.sheet_row = row\n",
    "        self.cells = row['cells']\n",
    "        self.row_number = row['rowNumber']\n",
    "        # essentially grab the class attributes\n",
    "        self.cell_defs = [getattr(self, attr) for attr in dir(self) if 'CELL_' in attr]\n",
    "        self._load_cells()\n",
    "\n",
    "    def _load_cells(self):\n",
    "        for cell_def in self.cell_defs:\n",
    "            modifier = getattr(self, f'_{cell_def.name}', None) or self._identity\n",
    "            unmodified = self._get_cell(cell_def)\n",
    "            value = modifier(unmodified) if unmodified is not None else None\n",
    "            setattr(self, cell_def.name, value)\n",
    "        \n",
    "    @staticmethod\n",
    "    def _identity(x):\n",
    "        return x\n",
    "        \n",
    "    def _get_cell(self, cell_descriptor):\n",
    "        \"\"\"Will try to grab the cell regardless, if it is required, an error will be logged\"\"\"\n",
    "        try:\n",
    "            if cell_descriptor.required:\n",
    "                cell_value = self.cells[cell_descriptor.index]['value']\n",
    "                return cell_value\n",
    "            else:\n",
    "                cell = self.cells[cell_descriptor.index]\n",
    "                return cell.get('value', None)\n",
    "        except:\n",
    "            raise Exception(f'Failed to process Row <{self.row_number}>. Missing {cell_descriptor.name}')\n",
    "\n",
    "    def to_json(self):\n",
    "        cell_defs = [getattr(self, attr) for attr in dir(self) if 'CELL_' in attr]\n",
    "        return { cd.name: getattr(self, cd.name) for cd in cell_defs}\n",
    "\n",
    "\n",
    "class PortfolioSheetRow(SmartsheetRow):\n",
    "    \"\"\"All cells that are desired MUST have a class attribute defined where:\n",
    "       \"CELL_\" is part of the name. The class will use those attributes to parse the row.\n",
    "       \n",
    "       Any methods defined with the same \"name\" as the attribute preceeded by an underscore\n",
    "       will apploy that function to the attribute as a clean way to modify the value if necessary.\n",
    "       \"\"\"\n",
    "    CELL_DESC = Cell(0, 'name', True)\n",
    "    CELL_FTE = Cell(1, 'fte', False)\n",
    "    CELL_FTE_UNALLOCATED = Cell(2, 'fte_unallocated', False)\n",
    "    CELL_FTE_OTHER = Cell(3, 'fte_other', False)\n",
    "    CELL_INCLUDE_IN_MODEL = Cell(4, 'include_in_model', True)\n",
    "    CELL_PROJECT_CODE = Cell(5, 'project_code', True)\n",
    "    CELL_REV = Cell(6, 'annual_revenue', False)\n",
    "    CELL_GP = Cell(7, 'gross_profit_perc', False)\n",
    "    CELL_ATTRIB = Cell(8, 'attribution_perc', False)\n",
    "    CELL_COST_OR_BENEFIT = Cell(9, 'is_cost', True)\n",
    "    CELL_CF_PROFILE = Cell(10, 'function', True)\n",
    "    CELL_DISCOUNT_RATE = Cell(11, 'discount_rate', True)\n",
    "    CELL_ANNUALIZED_START_VALUE = Cell(12, 'start_value', False)\n",
    "    CELL_DELAY_QUARTERS = Cell(13, 'delay_qtrs', True)\n",
    "    CELL_ANNUALIZED_MAX_VALUE = Cell(14, 'max_amt', True)\n",
    "    CELL_RAMP_TIME = Cell(15, 'scale_up_qtrs', True)\n",
    "    CELL_COMMENTS = Cell(16, 'comments', False)\n",
    "    \n",
    "    def __init__(self, row):\n",
    "        # Extra logic is used to decide if row should be processed at all\n",
    "        # This allows us to \"fail fast\" when a row we want to parse doesn't have the data we want\n",
    "        cells = row['cells']\n",
    "        include = cells[PortfolioSheetRow.CELL_INCLUDE_IN_MODEL.index].get('value', None)\n",
    "        self.project_code = cells[PortfolioSheetRow.CELL_PROJECT_CODE.index].get('value', None)\n",
    "        self.include_in_model = True if include == \"Yes\" else False\n",
    "        \n",
    "        if self.include_in_model and self.project_code:\n",
    "            super().__init__(row)\n",
    "        \n",
    "    @staticmethod\n",
    "    def _function(val):\n",
    "        text = val.strip().lower()\n",
    "        if text == 'continuous' or text == 'step':\n",
    "            return 'step'\n",
    "        elif text == 'single pmt.':\n",
    "            return 'single'\n",
    "        elif text == 'logistic':\n",
    "            return 'sigmoid'\n",
    "        elif text == 'linear':\n",
    "            return 'linear'\n",
    "        else:\n",
    "            raise Exception(f'Unknown profile type: {val}')\n",
    "    \n",
    "    @staticmethod\n",
    "    def _include_in_model(val):\n",
    "        return val.lower() == 'yes'\n",
    "\n",
    "    @staticmethod\n",
    "    def _is_cost(val):\n",
    "        return val.lower() == 'cost'\n",
    "    \n",
    "    \n",
    "\n",
    "# Script for quick verification testing\n",
    "# row_num = 21\n",
    "# row = sheet.rows[row_num - 1]\n",
    "# r = PortfolioSheetRow(row.to_dict())\n",
    "# blacklisted = ['__', 'cell_defs', 'CELL', 'cells', 'sheet_row', '_get_cell', '_identity', '_profile_type', 'row_number', '_include']\n",
    "# for a in dir(r):\n",
    "#     if any([s in a for s in blacklisted]):\n",
    "#         continue\n",
    "#     print(a + '\\t\\t\\t' + str(getattr(r, a)))"
   ]
  },
  {
   "cell_type": "code",
   "execution_count": 140,
   "metadata": {
    "scrolled": true
   },
   "outputs": [
    {
     "data": {
      "text/html": [
       "<div>\n",
       "<style scoped>\n",
       "    .dataframe tbody tr th:only-of-type {\n",
       "        vertical-align: middle;\n",
       "    }\n",
       "\n",
       "    .dataframe tbody tr th {\n",
       "        vertical-align: top;\n",
       "    }\n",
       "\n",
       "    .dataframe thead th {\n",
       "        text-align: right;\n",
       "    }\n",
       "</style>\n",
       "<table border=\"1\" class=\"dataframe\">\n",
       "  <thead>\n",
       "    <tr style=\"text-align: right;\">\n",
       "      <th></th>\n",
       "      <th>Q1</th>\n",
       "      <th>Q2</th>\n",
       "      <th>Q3</th>\n",
       "      <th>Q4</th>\n",
       "      <th>Q5</th>\n",
       "      <th>Q6</th>\n",
       "      <th>Q7</th>\n",
       "      <th>Q8</th>\n",
       "      <th>Q9</th>\n",
       "      <th>Q10</th>\n",
       "      <th>Q11</th>\n",
       "      <th>Q12</th>\n",
       "    </tr>\n",
       "    <tr>\n",
       "      <th>project</th>\n",
       "      <th></th>\n",
       "      <th></th>\n",
       "      <th></th>\n",
       "      <th></th>\n",
       "      <th></th>\n",
       "      <th></th>\n",
       "      <th></th>\n",
       "      <th></th>\n",
       "      <th></th>\n",
       "      <th></th>\n",
       "      <th></th>\n",
       "      <th></th>\n",
       "    </tr>\n",
       "  </thead>\n",
       "  <tbody>\n",
       "    <tr>\n",
       "      <th>BP</th>\n",
       "      <td>-0.273182</td>\n",
       "      <td>-0.319061</td>\n",
       "      <td>-0.362495</td>\n",
       "      <td>-0.403578</td>\n",
       "      <td>-0.442400</td>\n",
       "      <td>-0.331347</td>\n",
       "      <td>-0.374595</td>\n",
       "      <td>-0.415325</td>\n",
       "      <td>-0.453644</td>\n",
       "      <td>-0.431710</td>\n",
       "      <td>-0.468927</td>\n",
       "      <td>-0.469902</td>\n",
       "    </tr>\n",
       "    <tr>\n",
       "      <th>FS</th>\n",
       "      <td>-0.492500</td>\n",
       "      <td>-0.304878</td>\n",
       "      <td>-0.161336</td>\n",
       "      <td>-0.042259</td>\n",
       "      <td>0.187103</td>\n",
       "      <td>0.363684</td>\n",
       "      <td>0.646147</td>\n",
       "      <td>0.984272</td>\n",
       "      <td>1.297145</td>\n",
       "      <td>1.512869</td>\n",
       "      <td>1.621252</td>\n",
       "      <td>1.648543</td>\n",
       "    </tr>\n",
       "    <tr>\n",
       "      <th>PV</th>\n",
       "      <td>-0.069886</td>\n",
       "      <td>-0.081094</td>\n",
       "      <td>-0.091269</td>\n",
       "      <td>0.057543</td>\n",
       "      <td>0.113614</td>\n",
       "      <td>0.191246</td>\n",
       "      <td>0.291237</td>\n",
       "      <td>0.408909</td>\n",
       "      <td>0.531719</td>\n",
       "      <td>0.640561</td>\n",
       "      <td>0.716537</td>\n",
       "      <td>0.749427</td>\n",
       "    </tr>\n",
       "  </tbody>\n",
       "</table>\n",
       "</div>"
      ],
      "text/plain": [
       "               Q1        Q2        Q3        Q4        Q5        Q6        Q7  \\\n",
       "project                                                                         \n",
       "BP      -0.273182 -0.319061 -0.362495 -0.403578 -0.442400 -0.331347 -0.374595   \n",
       "FS      -0.492500 -0.304878 -0.161336 -0.042259  0.187103  0.363684  0.646147   \n",
       "PV      -0.069886 -0.081094 -0.091269  0.057543  0.113614  0.191246  0.291237   \n",
       "\n",
       "               Q8        Q9       Q10       Q11       Q12  \n",
       "project                                                    \n",
       "BP      -0.415325 -0.453644 -0.431710 -0.468927 -0.469902  \n",
       "FS       0.984272  1.297145  1.512869  1.621252  1.648543  \n",
       "PV       0.408909  0.531719  0.640561  0.716537  0.749427  "
      ]
     },
     "execution_count": 140,
     "metadata": {},
     "output_type": "execute_result"
    }
   ],
   "source": [
    "# Allow for easy targeting of rows, here [20 - 70]\n",
    "SHEET_ROW_START = 20\n",
    "SHEET_ROW_END = 70\n",
    "\n",
    "\n",
    "def sheet_row_to_cf(row):\n",
    "    return CashFlow(\n",
    "        delay_qtrs = row.delay_qtrs,\n",
    "        discount_rate = row.discount_rate,\n",
    "        max_amt = row.max_amt,\n",
    "        scale_up_qtrs = row.scale_up_qtrs,\n",
    "        function = row.function,\n",
    "        name = row.name,\n",
    "        is_cost = row.is_cost\n",
    "    )\n",
    "\n",
    "project_map = defaultdict(list)\n",
    "for index, sheet_row in enumerate(sheet.rows):\n",
    "    if index < SHEET_ROW_START or index > SHEET_ROW_END:\n",
    "        continue\n",
    "\n",
    "    row = PortfolioSheetRow(sheet_row.to_dict())\n",
    "    if row.project_code and row.include_in_model:\n",
    "        project_map[row.project_code].append(sheet_row_to_cf(row))\n",
    "\n",
    "# Build DataFrame from project_map\n",
    "rows = []\n",
    "for project_id, cash_flows in project_map.items():\n",
    "    for cash_flow in cash_flows:\n",
    "        rows.append([project_id] + cash_flow.qtr)\n",
    "        \n",
    "df = pd.DataFrame(data=rows, columns=['project'] + quarter_labels)\n",
    "df.groupby('project').sum()"
   ]
  },
  {
   "cell_type": "code",
   "execution_count": 141,
   "metadata": {
    "scrolled": false
   },
   "outputs": [
    {
     "data": {
      "text/html": [
       "<div><h1>FS</h1><br /><hr /></div>"
      ],
      "text/plain": [
       "<IPython.core.display.HTML object>"
      ]
     },
     "metadata": {},
     "output_type": "display_data"
    },
    {
     "data": {
      "application/vnd.jupyter.widget-view+json": {
       "model_id": "7562856489784266bf03cac2ef11fcca",
       "version_major": 2,
       "version_minor": 0
      },
      "text/plain": [
       "AppLayout(children=(VBox(children=(Text(value='', description='Name', placeholder='Name or description'), Chec…"
      ]
     },
     "metadata": {},
     "output_type": "display_data"
    },
    {
     "data": {
      "text/html": [
       "<div><h1>BP</h1><br /><hr /></div>"
      ],
      "text/plain": [
       "<IPython.core.display.HTML object>"
      ]
     },
     "metadata": {},
     "output_type": "display_data"
    },
    {
     "data": {
      "application/vnd.jupyter.widget-view+json": {
       "model_id": "dbce68ae457b44788b8902670eac05e3",
       "version_major": 2,
       "version_minor": 0
      },
      "text/plain": [
       "AppLayout(children=(VBox(children=(Text(value='', description='Name', placeholder='Name or description'), Chec…"
      ]
     },
     "metadata": {},
     "output_type": "display_data"
    },
    {
     "data": {
      "text/html": [
       "<div><h1>PV</h1><br /><hr /></div>"
      ],
      "text/plain": [
       "<IPython.core.display.HTML object>"
      ]
     },
     "metadata": {},
     "output_type": "display_data"
    },
    {
     "data": {
      "application/vnd.jupyter.widget-view+json": {
       "model_id": "5add0c0ce0d047edb8f32c44bffba876",
       "version_major": 2,
       "version_minor": 0
      },
      "text/plain": [
       "AppLayout(children=(VBox(children=(Text(value='', description='Name', placeholder='Name or description'), Chec…"
      ]
     },
     "metadata": {},
     "output_type": "display_data"
    }
   ],
   "source": [
    "# Build UI from project_map\n",
    "projects = []\n",
    "for project_id, cash_flows in project_map.items():\n",
    "    display(HTML(f'<div><h1>{project_id}</h1><br /><hr /></div>'))\n",
    "    projects.append(Project(project_id, cash_flows))"
   ]
  },
  {
   "cell_type": "code",
   "execution_count": 142,
   "metadata": {},
   "outputs": [],
   "source": [
    "# projects = [Project('batch_performance'), Project('r2k')]"
   ]
  },
  {
   "cell_type": "code",
   "execution_count": 143,
   "metadata": {},
   "outputs": [],
   "source": [
    "# projects = [batch_performance, r2k]"
   ]
  },
  {
   "cell_type": "code",
   "execution_count": 144,
   "metadata": {
    "scrolled": true
   },
   "outputs": [
    {
     "data": {
      "text/plain": [
       "[-0.4925,\n",
       " -0.30487804878048785,\n",
       " -0.16133613869681046,\n",
       " -0.04225875429494244,\n",
       " 0.1871034316244798,\n",
       " 0.36368405442426244,\n",
       " 0.6461474382962601,\n",
       " 0.9842720415068293,\n",
       " 1.2971447253770174,\n",
       " 1.5128692672894577,\n",
       " 1.6212518226116388,\n",
       " 1.6485427310736114]"
      ]
     },
     "execution_count": 144,
     "metadata": {},
     "output_type": "execute_result"
    }
   ],
   "source": [
    "def combine_flows(flows):\n",
    "    qtr_values = map(lambda cf: cf.qtr, flows)\n",
    "    aggregated_values = [sum(values) for values in zip(*qtr_values)]\n",
    "    return aggregated_values\n",
    "\n",
    "combine_flows(projects[0].cash_flows)"
   ]
  },
  {
   "cell_type": "code",
   "execution_count": 145,
   "metadata": {},
   "outputs": [
    {
     "data": {
      "application/vnd.jupyter.widget-view+json": {
       "model_id": "e33c7f5a50284a4187a70becefb4dce0",
       "version_major": 2,
       "version_minor": 0
      },
      "text/plain": [
       "VBox(children=(Button(description='Refresh Chart', style=ButtonStyle()), Output()))"
      ]
     },
     "metadata": {},
     "output_type": "display_data"
    }
   ],
   "source": [
    "# projects = [batch_performance, r2k]\n",
    "graph_out = widgets.Output()\n",
    "\n",
    "def combine_flows(flows):\n",
    "    qtr_values = map(lambda cf: cf.qtr, flows)\n",
    "    aggregated_values = [sum(values) for values in zip(*qtr_values)]\n",
    "    return aggregated_values\n",
    "\n",
    "def get_x_ticks(index, bar_width, step=1):\n",
    "    return [x - (bar_width * len(projects)) + (bar_width * index) for x in range(12)]\n",
    "\n",
    "def graph_projects_cash_flow(_):\n",
    "    graph_out.clear_output(wait=True)\n",
    "    \n",
    "    with graph_out:\n",
    "        projects_values = map(lambda p: combine_flows(p.cash_flows), projects)\n",
    "        projects_net = [sum(values) for values in zip(*projects_values)]\n",
    "        \n",
    "        figsize = (25, 8)\n",
    "        plt.figure(figsize=figsize)\n",
    "        plt.xticks(range(0, 12))\n",
    "        bar_room = .75 # 75% of space will have a bar plotted on it\n",
    "        bar_width = bar_room * 1 / (len(projects) + 1)  # + 1 in denominator to account for 'net'\n",
    "        legend_parents = []\n",
    "        for i, project in enumerate(projects):\n",
    "            xseries = get_x_ticks(i, bar_width)\n",
    "            plot = plt.bar(xseries, combine_flows(project.cash_flows), width=bar_width)\n",
    "            legend_parents.append(plot)\n",
    "\n",
    "        legend_parents = [p[0] for p in legend_parents]\n",
    "        net_xseries = get_x_ticks(len(projects), bar_width)\n",
    "        net_plot = plt.bar(net_xseries, projects_net, color='black', width=bar_width)\n",
    "\n",
    "        legend_parents.append(net_plot[0])\n",
    "        plt.legend((*legend_parents,), (*map(lambda p: p.name, projects), 'net'))\n",
    "        plt.show()\n",
    "\n",
    "with graph_out:\n",
    "    graph_projects_cash_flow(None)\n",
    "\n",
    "button = widgets.Button(description='Refresh Chart')\n",
    "button.on_click(graph_projects_cash_flow)\n",
    "\n",
    "chart = widgets.VBox(children=[button, graph_out])\n",
    "chart"
   ]
  },
  {
   "cell_type": "code",
   "execution_count": 146,
   "metadata": {},
   "outputs": [
    {
     "name": "stdout",
     "output_type": "stream",
     "text": [
      "NPV:  -3.468710665136409\n",
      "NPV Manual:  -3.1824753046150533\n"
     ]
    }
   ],
   "source": [
    "# Using a shortcut here dividing by four to calculate quarterly interest from annual discount rate of 25%\n",
    "# There is a better way to do the conversion, but example below:\n",
    "# better way to do conversion = https://www.investopedia.com/terms/n/npv.asp\n",
    "myproject = projects[1]\n",
    "\n",
    "def periodic_rate(annual_rate, periods_per_year):\n",
    "    return ((1 + annual_rate)**(1/periods_per_year)) - 1\n",
    "\n",
    "quarterly_rate = periodic_rate(.25, 4)\n",
    "npv_net =  np.npv(quarterly_rate, combine_flows(myproject.cash_flows))\n",
    "\n",
    "print(\"NPV: \", npv_net) \n",
    "\n",
    "# val = 0\n",
    "# for index, amount in enumerate(combine_flows(myproject.cash_flows), 1):\n",
    "#     val += amount / (1 + (quarterly_rate))**index\n",
    "val = 0\n",
    "for index, amount in enumerate(combine_flows(myproject.cash_flows), 1):\n",
    "    val += amount / (1 + (.25/4))**index\n",
    "\n",
    "print(\"NPV Manual: \", val) "
   ]
  },
  {
   "cell_type": "code",
   "execution_count": null,
   "metadata": {},
   "outputs": [],
   "source": []
  },
  {
   "cell_type": "code",
   "execution_count": null,
   "metadata": {},
   "outputs": [],
   "source": []
  },
  {
   "cell_type": "code",
   "execution_count": null,
   "metadata": {},
   "outputs": [],
   "source": []
  },
  {
   "cell_type": "code",
   "execution_count": null,
   "metadata": {},
   "outputs": [],
   "source": []
  },
  {
   "cell_type": "code",
   "execution_count": null,
   "metadata": {},
   "outputs": [],
   "source": []
  },
  {
   "cell_type": "code",
   "execution_count": null,
   "metadata": {},
   "outputs": [],
   "source": []
  },
  {
   "cell_type": "code",
   "execution_count": null,
   "metadata": {},
   "outputs": [],
   "source": []
  },
  {
   "cell_type": "markdown",
   "metadata": {},
   "source": [
    "## Step 1"
   ]
  },
  {
   "cell_type": "code",
   "execution_count": 18,
   "metadata": {},
   "outputs": [],
   "source": [
    "### STEP 1 START ###\n",
    "# For logistic growth we can define a sigmoid function\n",
    "# Sigmoid function, f(-6) = 0; f(0) = 0.5;  f(6) = 1.0;\n",
    "# Sigmoid / logistic growth would be a common cash flow profile\n",
    "# Future options to add would be 'step function,' 'linear growth,' 'exponential growth,' etc.\n",
    "def sigmoid(x):\n",
    "    shift = 3 # 5% of max value is \"zero\"\n",
    "    return 1 / (1 + math.exp(-(x - shift)))\n",
    "\n",
    "# Define a quarterly implementation of logistic growth / sigmoid based on delay in years, max $ amount, and the time to ramp up\n",
    "# All values in quarters except the 'max_amt' which is in dollars($M USD)\n",
    "# max_amt is the 'carrying capacity' of the sigmoid function, usually known as 'k' in academic formulas\n",
    "def sigmoid_qtr(delay_qtrs, max_amt, scale_up_qtrs, tot_qtrs=12):\n",
    "    mylist = []\n",
    "    if scale_up_qtrs < 2: \n",
    "        print('the total number of quarters must be at least one')\n",
    "    # -3 corresponds to 5% of max value, and 3 corresponds to 95% of max value, going to use those values to define function.\n",
    "    sigmoid_start = -3\n",
    "    sigmoid_last = 3\n",
    "    quarterly_x = (sigmoid_last - sigmoid_start) / scale_up_qtrs\n",
    "    # print(f'quarterly_x = {quarterly_x}')\n",
    "    for i in range(0, tot_qtrs):\n",
    "        if i < delay_qtrs:\n",
    "            mylist.append(0)\n",
    "        else: \n",
    "            x_val = sigmoid_start + quarterly_x*(i - delay_qtrs)\n",
    "            mylist.append(max_amt * sigmoid(x_val))\n",
    "    return mylist\n",
    "\n",
    "# Let's try a test case with some benefits with a max of $5M that start in 3 quarters, fully realized in 6 quarters\n",
    "delay_qtrs = 3\n",
    "max_amt = 5\n",
    "scale_up_qtrs = 7\n",
    "test = sigmoid_qtr(delay_qtrs, max_amt, scale_up_qtrs)\n",
    "\n",
    "# Red line is the number of delay quarters, when the function kicks in\n",
    "# Blue line is the end of scale up when you are getting close to max benefits\n",
    "def plotter(ben_vals, delay_qtrs, scale_up_qtrs):\n",
    "    labels = np.arange(1, len(test)+1)\n",
    "    plt.bar(labels, ben_vals)\n",
    "    plt.axvline(x=delay_qtrs, color = 'r')\n",
    "    plt.title('Scale up of Cash Flows')\n",
    "    plt.axvline(x=(delay_qtrs + scale_up_qtrs), color = 'b')\n",
    "    plt.show;\n",
    "# plotter(test, delay_qtrs, scale_up_qtrs)\n",
    "\n",
    "# This should print both costs and benefits\n",
    "def dual_plotter(costs, bennies):\n",
    "\n",
    "    # set width of bar\n",
    "    barWidth = 0.25\n",
    "\n",
    "    # calculate the net benefit for the quarter\n",
    "    net = [x1 - x2 for (x1, x2) in zip(bennies, costs)]\n",
    "    \n",
    "    # set height of bar\n",
    "    bars1 = costs\n",
    "    bars2 = bennies\n",
    "    bars3 = net\n",
    "\n",
    "    # Set position of bar on X axis\n",
    "    r1 = np.arange(len(bars1))\n",
    "    r2 = [x + barWidth for x in r1]\n",
    "    r3 = [x + barWidth for x in r2]\n",
    "\n",
    "    # Make the plot\n",
    "    plt.bar(r1, bars1, color='r', width=barWidth, edgecolor='white', label='cost')\n",
    "    plt.bar(r2, bars2, color='b', width=barWidth, edgecolor='white', label='bennies')\n",
    "    plt.bar(r3, bars3, color='#2d7f5e', width=barWidth, edgecolor='white', label='net')\n",
    "\n",
    "    # Add xticks on the middle of the group bars\n",
    "    plt.xlabel('group', fontweight='bold')\n",
    "    plt.xticks([r + barWidth for r in range(len(bars1))], quarter_labels)\n",
    "\n",
    "    # Create legend & Show graphic\n",
    "    plt.legend()\n",
    "    plt.show();\n"
   ]
  },
  {
   "cell_type": "code",
   "execution_count": 19,
   "metadata": {},
   "outputs": [
    {
     "data": {
      "application/vnd.jupyter.widget-view+json": {
       "model_id": "4cd315063cfc49cfa48374c42155ae0b",
       "version_major": 2,
       "version_minor": 0
      },
      "text/plain": [
       "interactive(children=(IntSlider(value=2, continuous_update=False, description='Ben. Delay', max=8), FloatSlide…"
      ]
     },
     "metadata": {},
     "output_type": "display_data"
    }
   ],
   "source": [
    "def f(x, y, z, a, b, c):\n",
    "    benefits = sigmoid_qtr(x, y, z)\n",
    "    costs = sigmoid_qtr(a, b, c)\n",
    "    \n",
    "    # To plot a single cash flow:\n",
    "    # plotter(benefits, x, y, costs)\n",
    "    \n",
    "    # To plot both costs and benefits together:\n",
    "    dual_plotter(benefits, costs)\n",
    "\n",
    "\n",
    "# Need to get this working for negative numbers.  Cash flow profiles for costs / investments will be negative numbers.\n",
    "# But maybe we can just calculate as positive, and then take the diff for net cash flow and put into a dataframe\n",
    "# Just need to review math of the above functions to make sure it works for negative numbers.\n",
    "# Turning off continuous update here :) \n",
    "benefits_delay = widgets.IntSlider(min=0, max=8, step=1, value=2, description='Ben. Delay', continuous_update=False)\n",
    "benefits_ramp = widgets.FloatSlider(min=2, max=12, step=0.5, value=4, description='Ben. Ramp', continuous_update=False)\n",
    "benefits_max = widgets.FloatSlider(min=0, max=30, step=0.5, value=4, description='Ben. Max', continuous_update=False)\n",
    "\n",
    "# We should probably include a component eventually where costs are a function of benefits, but for now, let's model them independently.\n",
    "cost_delay = widgets.FloatSlider(min=0, max=12, step=0.5, value=4, description='Cost Delay', continuous_update=False)\n",
    "cost_ramp = widgets.FloatSlider(min=0, max=12, step=0.5, value=4, description='Cost Ramp', continuous_update=False)\n",
    "cost_max = widgets.FloatSlider(min=0, max=30, step=0.5, value=4, description='Cost Max', continuous_update=False)\n",
    "\n",
    "interact(f, x=benefits_delay, y=benefits_ramp, z=benefits_max, a=cost_delay, b=cost_ramp, c=cost_max);\n",
    "\n",
    "\n",
    "##### There is something weird in how the sigmoid_qtr function is returning values.  \n",
    "##### Example, if you set the 'cost max' or 'benefit max' really high, it seems to change the ramp-up time, \n",
    "##### and the max value in the slider doesn't match the max value in the plot."
   ]
  },
  {
   "cell_type": "markdown",
   "metadata": {},
   "source": [
    "# Step 2"
   ]
  },
  {
   "cell_type": "code",
   "execution_count": 20,
   "metadata": {},
   "outputs": [
    {
     "name": "stdout",
     "output_type": "stream",
     "text": [
      "Net Present Value(npv) :  212.7356691470436\n"
     ]
    }
   ],
   "source": [
    "## Discounted Cash Flows can use this formula, once we find the : \n",
    "example_net_cashflow = [-100, 19, 49, 58, 200]\n",
    "\n",
    "# Using a shortcut here dividing by four to calculate quarterly interest from annual discount rate of 25%\n",
    "# There is a better way to do the conversion, but example below:\n",
    "npv_net =  np.npv(0.35/4,[-100, 19, 49, 58, 200, 100]) \n",
    "print(\"Net Present Value(npv) : \", npv_net) \n",
    "\n",
    "# we could also calculate an IRR using the IRR module from python, but NPV is fine for now.\n",
    "\n",
    "#### STEP 2 END\n",
    "#### STEP 3 START"
   ]
  },
  {
   "cell_type": "code",
   "execution_count": 21,
   "metadata": {},
   "outputs": [],
   "source": [
    "## Start building out a dataframe for project financial parameters and 12 months of cash flows\n",
    "## Cash flows can be populated with the growth curves above\n",
    "\n",
    "row_titles = ['visibility', 'growth', 'gamechangers']\n",
    "column_titles = ['internal_fte', 'external_spend', 'max_benefit', 'profile', 'discount_rate']\n",
    "d = pd.DataFrame(0, index=row_titles, columns=column_titles)"
   ]
  },
  {
   "cell_type": "code",
   "execution_count": 22,
   "metadata": {},
   "outputs": [
    {
     "data": {
      "text/plain": [
       "['Q1', 'Q2', 'Q3', 'Q4', 'Q5', 'Q6', 'Q7', 'Q8', 'Q9', 'Q10', 'Q11', 'Q12']"
      ]
     },
     "execution_count": 22,
     "metadata": {},
     "output_type": "execute_result"
    }
   ],
   "source": [
    "quarter_labels"
   ]
  },
  {
   "cell_type": "code",
   "execution_count": 23,
   "metadata": {},
   "outputs": [],
   "source": [
    "years_in_model = 3\n",
    "quarters = (list(range(years_in_model * 4)))\n",
    "quarters = [q + 1 for q in quarters]"
   ]
  },
  {
   "cell_type": "code",
   "execution_count": 24,
   "metadata": {},
   "outputs": [],
   "source": [
    "a = np.zeros((len(row_titles),len(quarters)))\n",
    "cost_benefit = pd.DataFrame(a, index = row_titles, columns=quarters)"
   ]
  },
  {
   "cell_type": "code",
   "execution_count": 25,
   "metadata": {},
   "outputs": [
    {
     "data": {
      "text/html": [
       "<div>\n",
       "<style scoped>\n",
       "    .dataframe tbody tr th:only-of-type {\n",
       "        vertical-align: middle;\n",
       "    }\n",
       "\n",
       "    .dataframe tbody tr th {\n",
       "        vertical-align: top;\n",
       "    }\n",
       "\n",
       "    .dataframe thead th {\n",
       "        text-align: right;\n",
       "    }\n",
       "</style>\n",
       "<table border=\"1\" class=\"dataframe\">\n",
       "  <thead>\n",
       "    <tr style=\"text-align: right;\">\n",
       "      <th></th>\n",
       "      <th>internal_fte</th>\n",
       "      <th>external_spend</th>\n",
       "      <th>max_benefit</th>\n",
       "      <th>profile</th>\n",
       "      <th>discount_rate</th>\n",
       "      <th>1</th>\n",
       "      <th>2</th>\n",
       "      <th>3</th>\n",
       "      <th>4</th>\n",
       "      <th>5</th>\n",
       "      <th>6</th>\n",
       "      <th>7</th>\n",
       "      <th>8</th>\n",
       "      <th>9</th>\n",
       "      <th>10</th>\n",
       "      <th>11</th>\n",
       "      <th>12</th>\n",
       "    </tr>\n",
       "  </thead>\n",
       "  <tbody>\n",
       "    <tr>\n",
       "      <th>visibility</th>\n",
       "      <td>0</td>\n",
       "      <td>0</td>\n",
       "      <td>0</td>\n",
       "      <td>0</td>\n",
       "      <td>0</td>\n",
       "      <td>0.0</td>\n",
       "      <td>0.0</td>\n",
       "      <td>0.0</td>\n",
       "      <td>0.0</td>\n",
       "      <td>0.0</td>\n",
       "      <td>0.0</td>\n",
       "      <td>0.0</td>\n",
       "      <td>0.0</td>\n",
       "      <td>0.0</td>\n",
       "      <td>0.0</td>\n",
       "      <td>0.0</td>\n",
       "      <td>0.0</td>\n",
       "    </tr>\n",
       "    <tr>\n",
       "      <th>growth</th>\n",
       "      <td>0</td>\n",
       "      <td>0</td>\n",
       "      <td>0</td>\n",
       "      <td>0</td>\n",
       "      <td>0</td>\n",
       "      <td>0.0</td>\n",
       "      <td>0.0</td>\n",
       "      <td>0.0</td>\n",
       "      <td>0.0</td>\n",
       "      <td>0.0</td>\n",
       "      <td>0.0</td>\n",
       "      <td>0.0</td>\n",
       "      <td>0.0</td>\n",
       "      <td>0.0</td>\n",
       "      <td>0.0</td>\n",
       "      <td>0.0</td>\n",
       "      <td>0.0</td>\n",
       "    </tr>\n",
       "    <tr>\n",
       "      <th>gamechangers</th>\n",
       "      <td>0</td>\n",
       "      <td>0</td>\n",
       "      <td>0</td>\n",
       "      <td>0</td>\n",
       "      <td>0</td>\n",
       "      <td>0.0</td>\n",
       "      <td>0.0</td>\n",
       "      <td>0.0</td>\n",
       "      <td>0.0</td>\n",
       "      <td>0.0</td>\n",
       "      <td>0.0</td>\n",
       "      <td>0.0</td>\n",
       "      <td>0.0</td>\n",
       "      <td>0.0</td>\n",
       "      <td>0.0</td>\n",
       "      <td>0.0</td>\n",
       "      <td>0.0</td>\n",
       "    </tr>\n",
       "  </tbody>\n",
       "</table>\n",
       "</div>"
      ],
      "text/plain": [
       "              internal_fte  external_spend  max_benefit  profile  \\\n",
       "visibility               0               0            0        0   \n",
       "growth                   0               0            0        0   \n",
       "gamechangers             0               0            0        0   \n",
       "\n",
       "              discount_rate    1    2    3    4    5    6    7    8    9   10  \\\n",
       "visibility                0  0.0  0.0  0.0  0.0  0.0  0.0  0.0  0.0  0.0  0.0   \n",
       "growth                    0  0.0  0.0  0.0  0.0  0.0  0.0  0.0  0.0  0.0  0.0   \n",
       "gamechangers              0  0.0  0.0  0.0  0.0  0.0  0.0  0.0  0.0  0.0  0.0   \n",
       "\n",
       "               11   12  \n",
       "visibility    0.0  0.0  \n",
       "growth        0.0  0.0  \n",
       "gamechangers  0.0  0.0  "
      ]
     },
     "execution_count": 25,
     "metadata": {},
     "output_type": "execute_result"
    }
   ],
   "source": [
    "# so once we estimate the benefits and the costs, we can populate the quarterly cash flows into a dataframe\n",
    "# The three major categories of projects are visibility (R2K, etc.), growth (batch perf., etc.), gamechangers (proteinview, etc.)\n",
    "comb = pd.concat([d, cost_benefit], axis=1, sort=False)\n",
    "comb\n",
    "\n",
    "# Once we phase in cash flows, we can discount them back with an Net Present Value (NPV) using the discount rate."
   ]
  },
  {
   "cell_type": "code",
   "execution_count": 26,
   "metadata": {},
   "outputs": [],
   "source": [
    "### HMM... how to iterate over the rows to replace the cash flows in the data frame for a given investment area.\n",
    "# adder = 1\n",
    "# for key, value in cost_benefit.iteritems(): \n",
    "#     value = value + adder\n",
    "#     adder += 1\n",
    "#     print(value) \n",
    "#     print() "
   ]
  },
  {
   "cell_type": "code",
   "execution_count": null,
   "metadata": {},
   "outputs": [],
   "source": []
  }
 ],
 "metadata": {
  "kernelspec": {
   "display_name": "Python 3",
   "language": "python",
   "name": "python3"
  },
  "language_info": {
   "codemirror_mode": {
    "name": "ipython",
    "version": 3
   },
   "file_extension": ".py",
   "mimetype": "text/x-python",
   "name": "python",
   "nbconvert_exporter": "python",
   "pygments_lexer": "ipython3",
   "version": "3.7.5"
  }
 },
 "nbformat": 4,
 "nbformat_minor": 2
}
